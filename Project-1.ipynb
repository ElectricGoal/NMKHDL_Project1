{
 "cells": [
  {
   "cell_type": "markdown",
   "metadata": {},
   "source": [
    "<h1><b>Đồ án thu thập dữ liệu</b></h1>\n",
    "Thông tin nhóm:\n"
   ]
  },
  {
   "cell_type": "markdown",
   "metadata": {},
   "source": [
    "<h2><b>Mô tả đồ án</b><h2>"
   ]
  },
  {
   "cell_type": "markdown",
   "metadata": {},
   "source": [
    "Bổ sung sau"
   ]
  },
  {
   "cell_type": "markdown",
   "metadata": {},
   "source": [
    "<h2><b>import các thư viện"
   ]
  },
  {
   "cell_type": "code",
   "execution_count": 1,
   "metadata": {},
   "outputs": [],
   "source": [
    "#import các thư viện cần dùng\n",
    "\n",
    "import pandas as pd\n",
    "import matplotlib.pyplot as plt\n",
    "import numpy as np\n",
    "import json\n",
    "import re\n",
    "import scrapy\n",
    "# bổ sung nếu cần thiết"
   ]
  },
  {
   "cell_type": "markdown",
   "metadata": {},
   "source": [
    "<h2><b>Thu thập dữ liệu</b></h2>"
   ]
  },
  {
   "cell_type": "markdown",
   "metadata": {},
   "source": [
    "<b>Bổ sung ở đây</b>"
   ]
  },
  {
   "cell_type": "markdown",
   "metadata": {},
   "source": [
    "<h2><b>Khám phá dữ liệu </b></h2>"
   ]
  },
  {
   "cell_type": "markdown",
   "metadata": {},
   "source": [
    "<b>Đầu tiên đọc file <b>games_info.csv</b> vào một Dataframe tên là `df_games_info`.</b>"
   ]
  },
  {
   "cell_type": "code",
   "execution_count": 2,
   "metadata": {},
   "outputs": [
    {
     "data": {
      "text/html": [
       "<div>\n",
       "<style scoped>\n",
       "    .dataframe tbody tr th:only-of-type {\n",
       "        vertical-align: middle;\n",
       "    }\n",
       "\n",
       "    .dataframe tbody tr th {\n",
       "        vertical-align: top;\n",
       "    }\n",
       "\n",
       "    .dataframe thead th {\n",
       "        text-align: right;\n",
       "    }\n",
       "</style>\n",
       "<table border=\"1\" class=\"dataframe\">\n",
       "  <thead>\n",
       "    <tr style=\"text-align: right;\">\n",
       "      <th></th>\n",
       "      <th>Title</th>\n",
       "      <th>Release date</th>\n",
       "      <th>Platform</th>\n",
       "      <th>Other platforms</th>\n",
       "      <th>Publisher</th>\n",
       "      <th>Developer</th>\n",
       "      <th>Genres</th>\n",
       "      <th>Rating</th>\n",
       "      <th>Number of players</th>\n",
       "      <th>Metascore</th>\n",
       "      <th>Number of critic reviews</th>\n",
       "      <th>User Score</th>\n",
       "      <th>Number of user reviews</th>\n",
       "    </tr>\n",
       "  </thead>\n",
       "  <tbody>\n",
       "    <tr>\n",
       "      <th>0</th>\n",
       "      <td>The Legend of Zelda: Ocarina of Time</td>\n",
       "      <td>Nov 23, 1998</td>\n",
       "      <td>Nintendo 64</td>\n",
       "      <td>NaN</td>\n",
       "      <td>Nintendo</td>\n",
       "      <td>Nintendo</td>\n",
       "      <td>Action Adventure,Fantasy</td>\n",
       "      <td>E</td>\n",
       "      <td>1 Player</td>\n",
       "      <td>99.0</td>\n",
       "      <td>22</td>\n",
       "      <td>9.1</td>\n",
       "      <td>7359</td>\n",
       "    </tr>\n",
       "    <tr>\n",
       "      <th>1</th>\n",
       "      <td>Tony Hawk's Pro Skater 2</td>\n",
       "      <td>Sep 20, 2000</td>\n",
       "      <td>PlayStation</td>\n",
       "      <td>iPhone/iPad,PC</td>\n",
       "      <td>Activision</td>\n",
       "      <td>Neversoft Entertainment</td>\n",
       "      <td>Sports,Alternative,Skateboarding</td>\n",
       "      <td>T</td>\n",
       "      <td>1-2</td>\n",
       "      <td>98.0</td>\n",
       "      <td>19</td>\n",
       "      <td>7.4</td>\n",
       "      <td>845</td>\n",
       "    </tr>\n",
       "    <tr>\n",
       "      <th>2</th>\n",
       "      <td>Grand Theft Auto IV</td>\n",
       "      <td>Apr 29, 2008</td>\n",
       "      <td>PlayStation 3</td>\n",
       "      <td>PC,Xbox 360</td>\n",
       "      <td>Rockstar Games</td>\n",
       "      <td>Rockstar North</td>\n",
       "      <td>Action Adventure,Modern,Modern,Open-World</td>\n",
       "      <td>M</td>\n",
       "      <td>1 Player</td>\n",
       "      <td>98.0</td>\n",
       "      <td>64</td>\n",
       "      <td>7.8</td>\n",
       "      <td>4735</td>\n",
       "    </tr>\n",
       "    <tr>\n",
       "      <th>3</th>\n",
       "      <td>SoulCalibur</td>\n",
       "      <td>Sep  8, 1999</td>\n",
       "      <td>Dreamcast</td>\n",
       "      <td>NaN</td>\n",
       "      <td>Namco</td>\n",
       "      <td>Namco</td>\n",
       "      <td>Action,Fighting,3D</td>\n",
       "      <td>T</td>\n",
       "      <td>1-2</td>\n",
       "      <td>98.0</td>\n",
       "      <td>24</td>\n",
       "      <td>8.4</td>\n",
       "      <td>394</td>\n",
       "    </tr>\n",
       "    <tr>\n",
       "      <th>4</th>\n",
       "      <td>Grand Theft Auto IV</td>\n",
       "      <td>Apr 29, 2008</td>\n",
       "      <td>Xbox 360</td>\n",
       "      <td>PC,PlayStation 3</td>\n",
       "      <td>Rockstar Games</td>\n",
       "      <td>Rockstar North</td>\n",
       "      <td>Action Adventure,Modern,Modern,Open-World</td>\n",
       "      <td>M</td>\n",
       "      <td>1 Player</td>\n",
       "      <td>98.0</td>\n",
       "      <td>86</td>\n",
       "      <td>8.0</td>\n",
       "      <td>3671</td>\n",
       "    </tr>\n",
       "  </tbody>\n",
       "</table>\n",
       "</div>"
      ],
      "text/plain": [
       "                                  Title  Release date       Platform  \\\n",
       "0  The Legend of Zelda: Ocarina of Time  Nov 23, 1998    Nintendo 64   \n",
       "1              Tony Hawk's Pro Skater 2  Sep 20, 2000    PlayStation   \n",
       "2                   Grand Theft Auto IV  Apr 29, 2008  PlayStation 3   \n",
       "3                           SoulCalibur  Sep  8, 1999      Dreamcast   \n",
       "4                   Grand Theft Auto IV  Apr 29, 2008       Xbox 360   \n",
       "\n",
       "    Other platforms       Publisher                Developer  \\\n",
       "0               NaN        Nintendo                 Nintendo   \n",
       "1    iPhone/iPad,PC      Activision  Neversoft Entertainment   \n",
       "2       PC,Xbox 360  Rockstar Games           Rockstar North   \n",
       "3               NaN           Namco                    Namco   \n",
       "4  PC,PlayStation 3  Rockstar Games           Rockstar North   \n",
       "\n",
       "                                      Genres Rating Number of players  \\\n",
       "0                   Action Adventure,Fantasy      E          1 Player   \n",
       "1           Sports,Alternative,Skateboarding      T               1-2   \n",
       "2  Action Adventure,Modern,Modern,Open-World      M          1 Player   \n",
       "3                         Action,Fighting,3D      T               1-2   \n",
       "4  Action Adventure,Modern,Modern,Open-World      M          1 Player   \n",
       "\n",
       "   Metascore  Number of critic reviews  User Score  Number of user reviews  \n",
       "0       99.0                        22         9.1                    7359  \n",
       "1       98.0                        19         7.4                     845  \n",
       "2       98.0                        64         7.8                    4735  \n",
       "3       98.0                        24         8.4                     394  \n",
       "4       98.0                        86         8.0                    3671  "
      ]
     },
     "execution_count": 2,
     "metadata": {},
     "output_type": "execute_result"
    }
   ],
   "source": [
    "#   YOUR CODE HEAR\n",
    "df_games_info = pd.read_csv('./data/games_info.csv')\n",
    "df_games_info.head(5)"
   ]
  },
  {
   "cell_type": "markdown",
   "metadata": {},
   "source": [
    "<b>Dữ liệu gồm bao nhiêu dòng và cột, lưu số dòng và số cột vào 2 biến `num_rows` và `num_cols`.</b>"
   ]
  },
  {
   "cell_type": "code",
   "execution_count": 4,
   "metadata": {},
   "outputs": [
    {
     "name": "stdout",
     "output_type": "stream",
     "text": [
      "13\n",
      "1498\n"
     ]
    }
   ],
   "source": [
    "#   YOUR CODE HEAR\n",
    "num_rows = df_games_info.shape[0]\n",
    "num_cols = df_games_info.shape[1]\n",
    "print(num_cols)\n",
    "print(num_rows)"
   ]
  },
  {
   "cell_type": "markdown",
   "metadata": {},
   "source": [
    "<b>Các dòng của dữ liệu có bị lặp không, lưu vào biến `have_duplicated_rows` là `False` nếu không lặp và ngược lại.</b>"
   ]
  },
  {
   "cell_type": "code",
   "execution_count": 5,
   "metadata": {},
   "outputs": [
    {
     "name": "stdout",
     "output_type": "stream",
     "text": [
      "False\n"
     ]
    }
   ],
   "source": [
    "#   YOUR CODE HEAR\n",
    "have_duplicated_rows = False\n",
    "if df_games_info[df_games_info.duplicated()].empty == True:\n",
    "    have_duplicated_rows == True\n",
    "print(have_duplicated_rows)"
   ]
  },
  {
   "cell_type": "markdown",
   "metadata": {},
   "source": [
    "<b>Mỗi cột hiện đang có kiểu dữ liệu gì? Có cột nào có kiểu dữ liệu chưa phù hợp để có thể xử lý tiếp không?</b>\n",
    "\n",
    "Lưu giá trị của các kiểu dữ liệu vào biến `col_dtypes`."
   ]
  },
  {
   "cell_type": "code",
   "execution_count": 6,
   "metadata": {},
   "outputs": [
    {
     "name": "stdout",
     "output_type": "stream",
     "text": [
      "Title                        object\n",
      "Release date                 object\n",
      "Platform                     object\n",
      "Other platforms              object\n",
      "Publisher                    object\n",
      "Developer                    object\n",
      "Genres                       object\n",
      "Rating                       object\n",
      "Number of players            object\n",
      "Metascore                   float64\n",
      "Number of critic reviews      int64\n",
      "User Score                  float64\n",
      "Number of user reviews        int64\n",
      "dtype: object\n"
     ]
    }
   ],
   "source": [
    "#   YOUR CODE HEAR\n",
    "df_games_info.dtypes\n",
    "col_dtypes = df_games_info.dtypes\n",
    "print(col_dtypes)"
   ]
  },
  {
   "cell_type": "markdown",
   "metadata": {},
   "source": [
    "<b>Ý nghĩa của các dòng và các cột</b> "
   ]
  },
  {
   "cell_type": "markdown",
   "metadata": {},
   "source": []
  },
  {
   "cell_type": "markdown",
   "metadata": {},
   "source": [
    "<b>Tìm kiếm kiểu dữ liệu thật sự của các cột có dtype là object.</b>"
   ]
  },
  {
   "cell_type": "code",
   "execution_count": 13,
   "metadata": {},
   "outputs": [
    {
     "name": "stdout",
     "output_type": "stream",
     "text": [
      "{<class 'str'>, <class 'float'>}\n"
     ]
    }
   ],
   "source": [
    "# YOUR CODE HERE\n",
    "def open_object_dtype(s):\n",
    "    dtypes = set()\n",
    "    s.apply(lambda x : dtypes.add(type(x)))\n",
    "    return dtypes\n",
    "\n",
    "print(open_object_dtype(df_games_info['Number of players']))"
   ]
  },
  {
   "cell_type": "markdown",
   "metadata": {},
   "source": [
    "<b>Các vấn đề cần tiền xử lí</b>\n",
    "- Cột Release date đang có kiểu dữ liệu là `str`, việc cần làm là đổi nó sang kiểu `datetime`.\n",
    "- Cột Rating đang có 2 kiểu dữ liệu là `str` và `float`, việc cần làm là đổi cột này sang dạng `float`.\n",
    "- Cột Number of players đang có 2 kiểu dữ liệu là `str` và `float`, việc cần làm là đổi cột này sang dạng `int` vì số lượng người chơi phải là số nguyên dương (Ở biến này có những chuỗi phức tạp nên ta sẽ tìm hiểu sau hơn ở phần tiền xử lí bên dưới)."
   ]
  },
  {
   "cell_type": "markdown",
   "metadata": {},
   "source": [
    "<h2><b>Tiền xử lí dữ liệu</b><h2>"
   ]
  },
  {
   "cell_type": "markdown",
   "metadata": {},
   "source": [
    "<b>Chuyển cột Release date sang kiểu dữ liệu datetime."
   ]
  },
  {
   "cell_type": "code",
   "execution_count": null,
   "metadata": {},
   "outputs": [],
   "source": [
    "# YOUR CODE HEAR"
   ]
  },
  {
   "cell_type": "markdown",
   "metadata": {},
   "source": [
    "<b>Chuyển cột Rating sang kiểu dữ liệu float.</b>"
   ]
  },
  {
   "cell_type": "code",
   "execution_count": null,
   "metadata": {},
   "outputs": [],
   "source": [
    "# YOUR CODE HEAR"
   ]
  },
  {
   "cell_type": "markdown",
   "metadata": {},
   "source": [
    "<b>Ở đây ta tập trung tiền xử lí cho cột Number of players.</b>\n",
    "- Đầu tiên hãy kiểm tra xem cột này có bao nhiêu giá trị khác nhau.\n",
    "- Sau đó ta sẽ quy định lại giá trị int tương ứng cho giá trị đó."
   ]
  },
  {
   "cell_type": "markdown",
   "metadata": {},
   "source": [
    "Chúng ta sẽ kiểm tra số lượng giá trị khác nhau và lưu vào một list là `unique_values`."
   ]
  },
  {
   "cell_type": "code",
   "execution_count": 14,
   "metadata": {},
   "outputs": [
    {
     "name": "stdout",
     "output_type": "stream",
     "text": [
      "['1 Player' '1-2' 'No Online Multiplayer' 'Up to 32' 'Up to 30' 'Up to 16'\n",
      " nan '1-4' 'Up to 4' 'Online Multiplayer' 'Up to 6' '1-16' 'Up to 8' '2'\n",
      " 'Up to 18' '1-8' '8  Online' '2  Online' '4  Online' '1-32' 'Up to 10'\n",
      " 'Up to 40' '16  Online' 'Massively Multiplayer' 'Up to 12' '24  Online'\n",
      " '6  Online' '1-12' 'Up to 20' 'Up to 5' '64+' 'Up to 22' 'Up to 60' '1-6'\n",
      " 'Up to 24' 'Up to 3' '1-10' '64  Online' 'Up to 64' '12  Online'\n",
      " '10  Online' '32  Online']\n"
     ]
    }
   ],
   "source": [
    "# YOUR CODE HEAR\n",
    "unique_values = df_games_info['Number of players'].unique()\n",
    "print(unique_values)"
   ]
  },
  {
   "cell_type": "markdown",
   "metadata": {},
   "source": [
    "- Với các giá trị có dạng `1-2, 1-16,...` ta chuyển nó thành giá trị của số lớn nhất bên phải.\n",
    "- Với các giá trị có dạng `Up to 32` ta chuyển nó thành 32.\n",
    "- Với các giá trị có dạng `No Online Multiplayer` ta chuyển nó thành 1.\n",
    "- Với các giá trị có dạng `Massively Multiplayer` ta chuyển nó thành giá trị random trong đoạn [64,200]\n",
    "- Với các giá trị có dạng `Online Multiplayer` ta chuyển nó thành giá trị trong đoạn [2,100]\n",
    "- Với các giá trị có dạng `Online` ta chuyển nó thành giá trị random trong đoạn [2,50]\n",
    "- Với các giá trị có dạng `64+` ta chuyển nó thành một giá trị random trong đoạn [64,200]\n"
   ]
  },
  {
   "cell_type": "markdown",
   "metadata": {},
   "source": [
    "Sau khi đã xong chúng ta tiếp tục các bước khám phá dữ liệu."
   ]
  },
  {
   "cell_type": "markdown",
   "metadata": {},
   "source": [
    "<h2><b>Khám phá dữ liệu (Tiếp tục).</b></h2>"
   ]
  },
  {
   "cell_type": "markdown",
   "metadata": {},
   "source": [
    "<b>Với mỗi cột có kiểu dữ liệu dạng numeric, các giá trị được phân bố như thế nào?</b>\n",
    "\n",
    "Các cột dạng numeric là: Number of players, Metascore, Number of critic reviews, User Score, Number of user reviews.\n",
    "\n",
    "Với mỗi cột numeric bạn sẽ tính tỉ lệ % giá trị thiếu (từ 0 đến 100), min, max. Bạn lưu kết quả vào dataframe `nume_col_profiles_df`. Dataframe này có 3 dòng là \"missing_ratio\", \"min\", \"max\"; và có 5 cột là \"Number of players\", \"Metascore\", \"Number of critic reviews\", \"User Score\", \"Number of user reviews\"."
   ]
  },
  {
   "cell_type": "code",
   "execution_count": null,
   "metadata": {},
   "outputs": [],
   "source": [
    "# YOUR CODE HEAR"
   ]
  },
  {
   "cell_type": "markdown",
   "metadata": {},
   "source": [
    "<b>Với mỗi cột có kiểu dữ liệu dạng categorical, các giá trị được phân bố như thế nào?</b>\n",
    "\n",
    "Với mỗi cột dạng categorical, bạn tính tỉ lệ % giá trị thiếu (từ 0 đến 100), số lượng giá trị khác nhau (không xét giá trị thiếu), list/array các giá trị khác nhau (không xét giá trị thiếu). Bạn lưu kết quả vào dataframe `cate_col_profiles_df`. Dataframe này có 3 dòng là \"missing_ratio\", \"num_diff_vals\", \"diff_vals\"; và có 7 cột là \"Title\", \"Release date\", \"Platform\", \"Other platforms\", \"Publisher\", \"Developer\", \"Genres\""
   ]
  },
  {
   "cell_type": "code",
   "execution_count": null,
   "metadata": {},
   "outputs": [],
   "source": [
    "# YOUR CODE HEAR"
   ]
  },
  {
   "cell_type": "markdown",
   "metadata": {},
   "source": [
    "<h2><b>Đưa ra các câu hỏi cần trả lời</b></h2>\n",
    "\n",
    "- Game được cho điểm trung bình cao nhất mà người chơi chấm điểm là gì, hãy vẽ một biểu đồ đường thể hiện điểm rating trung bình của người chơi cho 10 game được yêu thích nhất.\n",
    "\n",
    "- Game được cho điểm trung bình cao nhất mà nhà phê bình chấm điểm là gì, hãy vẽ một biểu đồ đường thể hiện điểm rating trung bình của nhà phê bình cho 10 game được yêu thích nhất.\n",
    "\n",
    "- Nền tảng nào hỗ trợ nhiều game nhất, hãy dùng biểu đồ cột để thể hiện số lượng game mà 10 nền tảng hàng đầu đó hỗ trợ.\n",
    "\n",
    "- Tựa game được yêu thích nhất là gì, hãy dùng biểu đồ đường thể hiện số lượng người chơi của 10 game được chơi nhiều nhất.\n",
    "\n",
    "- Thể loại game 3D là một thể loại game đang được nhiều người quan tâm đến. Hãy tính số lượng người chơi, điểm rating, điểm đánh giá của người dùng, điểm đánh giá của chuyên gia, nền tảng hỗ trợ và nhà phát hành của những tựa game 3D được phát hành trong năm 2022.  "
   ]
  },
  {
   "cell_type": "code",
   "execution_count": null,
   "metadata": {},
   "outputs": [],
   "source": [
    "# Cau 1"
   ]
  },
  {
   "cell_type": "code",
   "execution_count": null,
   "metadata": {},
   "outputs": [],
   "source": [
    "# Cau 2"
   ]
  },
  {
   "cell_type": "code",
   "execution_count": null,
   "metadata": {},
   "outputs": [],
   "source": [
    "# Cau 3"
   ]
  },
  {
   "cell_type": "code",
   "execution_count": null,
   "metadata": {},
   "outputs": [],
   "source": [
    "# Cau 4"
   ]
  },
  {
   "cell_type": "code",
   "execution_count": null,
   "metadata": {},
   "outputs": [],
   "source": [
    "# Cau 5"
   ]
  },
  {
   "cell_type": "markdown",
   "metadata": {},
   "source": []
  }
 ],
 "metadata": {
  "kernelspec": {
   "display_name": "Python 3.9.12 ('base')",
   "language": "python",
   "name": "python3"
  },
  "language_info": {
   "codemirror_mode": {
    "name": "ipython",
    "version": 3
   },
   "file_extension": ".py",
   "mimetype": "text/x-python",
   "name": "python",
   "nbconvert_exporter": "python",
   "pygments_lexer": "ipython3",
   "version": "3.9.12"
  },
  "orig_nbformat": 4,
  "vscode": {
   "interpreter": {
    "hash": "16f5b46f222e2a3e8d4adbf7141cae37b71ed37616e60735fa5d1164a1bc3ada"
   }
  }
 },
 "nbformat": 4,
 "nbformat_minor": 2
}
