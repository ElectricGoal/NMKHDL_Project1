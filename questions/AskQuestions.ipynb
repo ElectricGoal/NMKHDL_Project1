{
 "cells": [
  {
   "attachments": {},
   "cell_type": "markdown",
   "metadata": {},
   "source": [
    "<h2><b>Import các thư viện"
   ]
  },
  {
   "cell_type": "code",
   "execution_count": 2,
   "metadata": {},
   "outputs": [],
   "source": [
    "#import các thư viện cần dùng\n",
    "\n",
    "import pandas as pd\n",
    "import matplotlib.pyplot as plt\n",
    "import numpy as np\n",
    "# bổ sung nếu cần \n",
    "from numpy import random"
   ]
  },
  {
   "cell_type": "markdown",
   "metadata": {},
   "source": [
    "<h2><b>Khám phá dữ liệu </b></h2>"
   ]
  },
  {
   "cell_type": "markdown",
   "metadata": {},
   "source": [
    "<b>Đầu tiên đọc file <b>games_info.csv</b> vào một Dataframe tên là `df_games_info`.</b>"
   ]
  },
  {
   "cell_type": "code",
   "execution_count": 3,
   "metadata": {},
   "outputs": [
    {
     "data": {
      "text/html": [
       "<div>\n",
       "<style scoped>\n",
       "    .dataframe tbody tr th:only-of-type {\n",
       "        vertical-align: middle;\n",
       "    }\n",
       "\n",
       "    .dataframe tbody tr th {\n",
       "        vertical-align: top;\n",
       "    }\n",
       "\n",
       "    .dataframe thead th {\n",
       "        text-align: right;\n",
       "    }\n",
       "</style>\n",
       "<table border=\"1\" class=\"dataframe\">\n",
       "  <thead>\n",
       "    <tr style=\"text-align: right;\">\n",
       "      <th></th>\n",
       "      <th>Title</th>\n",
       "      <th>Release date</th>\n",
       "      <th>Platform</th>\n",
       "      <th>Other platforms</th>\n",
       "      <th>Publisher</th>\n",
       "      <th>Developer</th>\n",
       "      <th>Genres</th>\n",
       "      <th>Rating</th>\n",
       "      <th>Number of players</th>\n",
       "      <th>Metascore</th>\n",
       "      <th>Number of critic reviews</th>\n",
       "      <th>User Score</th>\n",
       "      <th>Number of user reviews</th>\n",
       "    </tr>\n",
       "  </thead>\n",
       "  <tbody>\n",
       "    <tr>\n",
       "      <th>0</th>\n",
       "      <td>The Legend of Zelda: Ocarina of Time</td>\n",
       "      <td>Nov 23, 1998</td>\n",
       "      <td>Nintendo 64</td>\n",
       "      <td>NaN</td>\n",
       "      <td>Nintendo</td>\n",
       "      <td>Nintendo</td>\n",
       "      <td>Action Adventure,Fantasy</td>\n",
       "      <td>E</td>\n",
       "      <td>1 Player</td>\n",
       "      <td>99.0</td>\n",
       "      <td>22</td>\n",
       "      <td>9.1</td>\n",
       "      <td>7359</td>\n",
       "    </tr>\n",
       "    <tr>\n",
       "      <th>1</th>\n",
       "      <td>Tony Hawk's Pro Skater 2</td>\n",
       "      <td>Sep 20, 2000</td>\n",
       "      <td>PlayStation</td>\n",
       "      <td>iPhone/iPad,PC</td>\n",
       "      <td>Activision</td>\n",
       "      <td>Neversoft Entertainment</td>\n",
       "      <td>Sports,Alternative,Skateboarding</td>\n",
       "      <td>T</td>\n",
       "      <td>1-2</td>\n",
       "      <td>98.0</td>\n",
       "      <td>19</td>\n",
       "      <td>7.4</td>\n",
       "      <td>845</td>\n",
       "    </tr>\n",
       "    <tr>\n",
       "      <th>2</th>\n",
       "      <td>Grand Theft Auto IV</td>\n",
       "      <td>Apr 29, 2008</td>\n",
       "      <td>PlayStation 3</td>\n",
       "      <td>PC,Xbox 360</td>\n",
       "      <td>Rockstar Games</td>\n",
       "      <td>Rockstar North</td>\n",
       "      <td>Action Adventure,Modern,Modern,Open-World</td>\n",
       "      <td>M</td>\n",
       "      <td>1 Player</td>\n",
       "      <td>98.0</td>\n",
       "      <td>64</td>\n",
       "      <td>7.8</td>\n",
       "      <td>4735</td>\n",
       "    </tr>\n",
       "    <tr>\n",
       "      <th>3</th>\n",
       "      <td>SoulCalibur</td>\n",
       "      <td>Sep  8, 1999</td>\n",
       "      <td>Dreamcast</td>\n",
       "      <td>NaN</td>\n",
       "      <td>Namco</td>\n",
       "      <td>Namco</td>\n",
       "      <td>Action,Fighting,3D</td>\n",
       "      <td>T</td>\n",
       "      <td>1-2</td>\n",
       "      <td>98.0</td>\n",
       "      <td>24</td>\n",
       "      <td>8.4</td>\n",
       "      <td>394</td>\n",
       "    </tr>\n",
       "    <tr>\n",
       "      <th>4</th>\n",
       "      <td>Grand Theft Auto IV</td>\n",
       "      <td>Apr 29, 2008</td>\n",
       "      <td>Xbox 360</td>\n",
       "      <td>PC,PlayStation 3</td>\n",
       "      <td>Rockstar Games</td>\n",
       "      <td>Rockstar North</td>\n",
       "      <td>Action Adventure,Modern,Modern,Open-World</td>\n",
       "      <td>M</td>\n",
       "      <td>1 Player</td>\n",
       "      <td>98.0</td>\n",
       "      <td>86</td>\n",
       "      <td>8.0</td>\n",
       "      <td>3671</td>\n",
       "    </tr>\n",
       "  </tbody>\n",
       "</table>\n",
       "</div>"
      ],
      "text/plain": [
       "                                  Title  Release date       Platform  \\\n",
       "0  The Legend of Zelda: Ocarina of Time  Nov 23, 1998    Nintendo 64   \n",
       "1              Tony Hawk's Pro Skater 2  Sep 20, 2000    PlayStation   \n",
       "2                   Grand Theft Auto IV  Apr 29, 2008  PlayStation 3   \n",
       "3                           SoulCalibur  Sep  8, 1999      Dreamcast   \n",
       "4                   Grand Theft Auto IV  Apr 29, 2008       Xbox 360   \n",
       "\n",
       "    Other platforms       Publisher                Developer  \\\n",
       "0               NaN        Nintendo                 Nintendo   \n",
       "1    iPhone/iPad,PC      Activision  Neversoft Entertainment   \n",
       "2       PC,Xbox 360  Rockstar Games           Rockstar North   \n",
       "3               NaN           Namco                    Namco   \n",
       "4  PC,PlayStation 3  Rockstar Games           Rockstar North   \n",
       "\n",
       "                                      Genres Rating Number of players  \\\n",
       "0                   Action Adventure,Fantasy      E          1 Player   \n",
       "1           Sports,Alternative,Skateboarding      T               1-2   \n",
       "2  Action Adventure,Modern,Modern,Open-World      M          1 Player   \n",
       "3                         Action,Fighting,3D      T               1-2   \n",
       "4  Action Adventure,Modern,Modern,Open-World      M          1 Player   \n",
       "\n",
       "   Metascore  Number of critic reviews  User Score  Number of user reviews  \n",
       "0       99.0                        22         9.1                    7359  \n",
       "1       98.0                        19         7.4                     845  \n",
       "2       98.0                        64         7.8                    4735  \n",
       "3       98.0                        24         8.4                     394  \n",
       "4       98.0                        86         8.0                    3671  "
      ]
     },
     "execution_count": 3,
     "metadata": {},
     "output_type": "execute_result"
    }
   ],
   "source": [
    "#   YOUR CODE HEAR\n",
    "df_games_info = pd.read_csv('../data/games_info.csv')\n",
    "df_games_info.head(5)"
   ]
  },
  {
   "cell_type": "markdown",
   "metadata": {},
   "source": [
    "<b>Dữ liệu gồm bao nhiêu dòng và cột, lưu số dòng và số cột vào 2 biến `num_rows` và `num_cols`.</b>"
   ]
  },
  {
   "cell_type": "code",
   "execution_count": 4,
   "metadata": {},
   "outputs": [
    {
     "name": "stdout",
     "output_type": "stream",
     "text": [
      "13\n",
      "1498\n"
     ]
    }
   ],
   "source": [
    "#   YOUR CODE HEAR\n",
    "num_rows = df_games_info.shape[0]\n",
    "num_cols = df_games_info.shape[1]\n",
    "print(num_cols)\n",
    "print(num_rows)"
   ]
  },
  {
   "cell_type": "markdown",
   "metadata": {},
   "source": [
    "<b>Các dòng của dữ liệu có bị lặp không, lưu vào biến `have_duplicated_rows` là `False` nếu không lặp và ngược lại.</b>"
   ]
  },
  {
   "cell_type": "code",
   "execution_count": 5,
   "metadata": {},
   "outputs": [
    {
     "name": "stdout",
     "output_type": "stream",
     "text": [
      "False\n"
     ]
    }
   ],
   "source": [
    "#   YOUR CODE HEAR\n",
    "have_duplicated_rows = False\n",
    "if df_games_info[df_games_info.duplicated()].empty == True:\n",
    "    have_duplicated_rows == True\n",
    "print(have_duplicated_rows)"
   ]
  },
  {
   "cell_type": "markdown",
   "metadata": {},
   "source": [
    "<b>Mỗi cột hiện đang có kiểu dữ liệu gì? Có cột nào có kiểu dữ liệu chưa phù hợp để có thể xử lý tiếp không?</b>\n",
    "\n",
    "Lưu giá trị của các kiểu dữ liệu vào biến `col_dtypes`."
   ]
  },
  {
   "cell_type": "code",
   "execution_count": 6,
   "metadata": {},
   "outputs": [
    {
     "name": "stdout",
     "output_type": "stream",
     "text": [
      "Title                        object\n",
      "Release date                 object\n",
      "Platform                     object\n",
      "Other platforms              object\n",
      "Publisher                    object\n",
      "Developer                    object\n",
      "Genres                       object\n",
      "Rating                       object\n",
      "Number of players            object\n",
      "Metascore                   float64\n",
      "Number of critic reviews      int64\n",
      "User Score                  float64\n",
      "Number of user reviews        int64\n",
      "dtype: object\n"
     ]
    }
   ],
   "source": [
    "#   YOUR CODE HEAR\n",
    "df_games_info.dtypes\n",
    "col_dtypes = df_games_info.dtypes\n",
    "print(col_dtypes)"
   ]
  },
  {
   "cell_type": "markdown",
   "metadata": {},
   "source": [
    "<b>Ý nghĩa của các dòng và các cột</b> "
   ]
  },
  {
   "cell_type": "markdown",
   "metadata": {},
   "source": [
    "<b>Tìm kiếm kiểu dữ liệu thật sự của các cột có dtype là object.</b>"
   ]
  },
  {
   "cell_type": "code",
   "execution_count": 7,
   "metadata": {},
   "outputs": [
    {
     "name": "stdout",
     "output_type": "stream",
     "text": [
      "{<class 'float'>, <class 'str'>}\n"
     ]
    }
   ],
   "source": [
    "# YOUR CODE HERE\n",
    "def open_object_dtype(s):\n",
    "    dtypes = set()\n",
    "    s.apply(lambda x : dtypes.add(type(x)))\n",
    "    return dtypes\n",
    "\n",
    "print(open_object_dtype(df_games_info['Number of players']))"
   ]
  },
  {
   "cell_type": "markdown",
   "metadata": {},
   "source": [
    "<b>Các vấn đề cần tiền xử lí</b>\n",
    "- Cột Release date đang có kiểu dữ liệu là `str`, việc cần làm là đổi nó sang kiểu `datetime`.\n",
    "- Cột Rating để biểu diễn lứa tuổi phù hợp đang có 2 kiểu dữ liệu là `str` và `float`, việc cần làm là đổi cột này sang dạng `int`.\n",
    "- Cột Number of players đang có 2 kiểu dữ liệu là `str` và `float`, việc cần làm là đổi cột này sang dạng `int` vì số lượng người chơi phải là số nguyên dương (Ở biến này có những chuỗi phức tạp nên ta sẽ tìm hiểu sau hơn ở phần tiền xử lí bên dưới)."
   ]
  },
  {
   "cell_type": "markdown",
   "metadata": {},
   "source": [
    "<h2><b>Tiền xử lí dữ liệu</b><h2>"
   ]
  },
  {
   "cell_type": "markdown",
   "metadata": {},
   "source": [
    "<b>Chuyển cột Release date sang kiểu dữ liệu datetime."
   ]
  },
  {
   "cell_type": "code",
   "execution_count": 8,
   "metadata": {},
   "outputs": [
    {
     "name": "stdout",
     "output_type": "stream",
     "text": [
      "0       1998\n",
      "1       2000\n",
      "2       2008\n",
      "3       1999\n",
      "4       2008\n",
      "        ... \n",
      "1493    2010\n",
      "1494    2004\n",
      "1495    2011\n",
      "1496    2003\n",
      "1497    2003\n",
      "Name: Release date, Length: 1498, dtype: int64\n"
     ]
    }
   ],
   "source": [
    "# YOUR CODE HEAR\n",
    "df_games_info['Release date'] = pd.to_datetime(df_games_info['Release date'],format=\"%b %d, %Y\")\n",
    "print(df_games_info['Release date'].dt.year)"
   ]
  },
  {
   "cell_type": "markdown",
   "metadata": {},
   "source": [
    "<b>Chuyển cột Rating sang kiểu dữ liệu int. Ta quy định như sau:</b>\n",
    "\n",
    "Trong cột này có các giá trị ['E' 'T' 'M' 'E10+' nan 'K-A' 'AO']\n",
    "\n",
    "- E là 3 tuổi trở lên nên quy định trong tệp này là 3\n",
    "\n",
    "- T là 13 tuổi trở lên nên quy định trong tệp này là 13\n",
    "\n",
    "- M là từ 17 tuổi trở lên nên quy định trong tệp này là 17\n",
    "\n",
    "- E10+ là từ từ 10 tuổi trở lên nên quy định trong tệp này là 10\n",
    "\n",
    "- K-A là từ 6 tuổi nên ta quy trong tệp này là 6\n",
    "\n",
    "- AO là từ 18 nên quy định trong tệp này là 18\n",
    "\n",
    "- Với nan ta quy định là -1\n",
    "\n"
   ]
  },
  {
   "cell_type": "code",
   "execution_count": 9,
   "metadata": {},
   "outputs": [
    {
     "name": "stdout",
     "output_type": "stream",
     "text": [
      "0        3\n",
      "1       13\n",
      "2       17\n",
      "3       13\n",
      "4       17\n",
      "        ..\n",
      "1493     3\n",
      "1494    13\n",
      "1495    17\n",
      "1496     3\n",
      "1497     3\n",
      "Name: Rating, Length: 1498, dtype: int32\n"
     ]
    }
   ],
   "source": [
    "# YOUR CODE HEAR\n",
    "def replace_rating(df,val_old,val_new):\n",
    "    return df.replace([val_old], val_new)\n",
    "\n",
    "df_games_info['Rating'] = replace_rating(df_games_info['Rating'],'E',3)\n",
    "df_games_info['Rating'] = replace_rating(df_games_info['Rating'],'T',13)\n",
    "df_games_info['Rating'] = replace_rating(df_games_info['Rating'],'M',17)\n",
    "df_games_info['Rating'] = replace_rating(df_games_info['Rating'],'E10+',10)\n",
    "df_games_info['Rating'] = replace_rating(df_games_info['Rating'],'K-A',6)\n",
    "df_games_info['Rating'] = replace_rating(df_games_info['Rating'],'AO',18)\n",
    "df_games_info['Rating'] = replace_rating(df_games_info['Rating'],np.nan,-1)\n",
    "\n",
    "df_games_info = df_games_info.astype({'Rating':'int'})\n",
    "print(df_games_info['Rating'])"
   ]
  },
  {
   "cell_type": "markdown",
   "metadata": {},
   "source": [
    "<b>Ở đây ta tập trung tiền xử lí cho cột Number of players.</b>\n",
    "- Đầu tiên hãy kiểm tra xem cột này có bao nhiêu giá trị khác nhau.\n",
    "- Sau đó ta sẽ quy định lại giá trị int tương ứng cho giá trị đó."
   ]
  },
  {
   "cell_type": "markdown",
   "metadata": {},
   "source": [
    "Chúng ta sẽ kiểm tra số lượng giá trị khác nhau và lưu vào một list là `unique_values`."
   ]
  },
  {
   "cell_type": "code",
   "execution_count": 10,
   "metadata": {},
   "outputs": [
    {
     "name": "stdout",
     "output_type": "stream",
     "text": [
      "['1 Player' '1-2' 'No Online Multiplayer' 'Up to 32' 'Up to 30' 'Up to 16'\n",
      " nan '1-4' 'Up to 4' 'Online Multiplayer' 'Up to 6' '1-16' 'Up to 8' '2'\n",
      " 'Up to 18' '1-8' '8  Online' '2  Online' '4  Online' '1-32' 'Up to 10'\n",
      " 'Up to 40' '16  Online' 'Massively Multiplayer' 'Up to 12' '24  Online'\n",
      " '6  Online' '1-12' 'Up to 20' 'Up to 5' '64+' 'Up to 22' 'Up to 60' '1-6'\n",
      " 'Up to 24' 'Up to 3' '1-10' '64  Online' 'Up to 64' '12  Online'\n",
      " '10  Online' '32  Online']\n"
     ]
    }
   ],
   "source": [
    "# YOUR CODE HEAR\n",
    "unique_values = df_games_info['Number of players'].unique()\n",
    "print(unique_values)"
   ]
  },
  {
   "cell_type": "markdown",
   "metadata": {},
   "source": [
    "- Với các giá trị có dạng `1-2, 1-16,...` ta chuyển nó thành giá trị của số lớn nhất bên phải.\n",
    "- Với các giá trị có dạng `Up to 32` ta chuyển nó thành 32.\n",
    "- Với các giá trị có dạng `No Online Multiplayer` ta chuyển nó thành 2.\n",
    "- Với các giá trị có dạng `Massively Multiplayer` ta chuyển nó thành giá trị đoạn [1000,inf]\n",
    "- Với các giá trị có dạng `Online Multiplayer` ta chuyển nó thành giá trị đoạn [2,100]\n",
    "- Với các giá trị có dạng `Online` ta chuyển nó thành giá trị đoạn [2,50]\n",
    "- Với các giá trị có dạng `64+` ta chuyển nó thành một giá trị đoạn [64,200]\n",
    "- Với các giá trị có dạng `1 Player` ta chuyển nó thành 1\n",
    "- Với giá trị `nan` ta cho bằng np.nan\n"
   ]
  },
  {
   "cell_type": "code",
   "execution_count": 11,
   "metadata": {},
   "outputs": [
    {
     "name": "stdout",
     "output_type": "stream",
     "text": [
      "0       1\n",
      "1       2\n",
      "2       1\n",
      "3       2\n",
      "4       1\n",
      "       ..\n",
      "1493    0\n",
      "1494    1\n",
      "1495    2\n",
      "1496    4\n",
      "1497    2\n",
      "Name: Number of players, Length: 1498, dtype: object\n"
     ]
    }
   ],
   "source": [
    "\n",
    "def replace_num_of_player(value):\n",
    "    if str(value).find('-') != -1:\n",
    "        return int(value[value.find('-') + 1])\n",
    "    elif str(value).find('Up to ') != -1:\n",
    "        return int(value[6:8])\n",
    "    elif str(value).find('  Online') != -1:\n",
    "        return int(value[0: len(value) - 7])\n",
    "    elif value =='No Online Multiplayer':\n",
    "        return 1\n",
    "    elif value == 'Massively Multiplayer':\n",
    "        return [1000,np.inf]\n",
    "    elif value == 'Online Multiplayer':\n",
    "        return [2,100]\n",
    "    elif value == 'Online':\n",
    "        return [2,50]\n",
    "    elif value == '64+':\n",
    "        return [64,200]\n",
    "    elif value == '1 Player':\n",
    "        return 1\n",
    "    else:\n",
    "        return value\n",
    "    \n",
    "\n",
    "for i in range(len(df_games_info['Number of players'])):\n",
    "    df_games_info['Number of players'].at[i] = replace_num_of_player(df_games_info['Number of players'].at[i])\n",
    "df_games_info['Number of players'] = df_games_info['Number of players'].replace([np.nan],'0')\n",
    "print(df_games_info['Number of players'])"
   ]
  },
  {
   "cell_type": "markdown",
   "metadata": {},
   "source": [
    "Sau khi đã xong chúng ta tiếp tục các bước khám phá dữ liệu."
   ]
  },
  {
   "cell_type": "markdown",
   "metadata": {},
   "source": [
    "<h2><b>Khám phá dữ liệu (Tiếp tục).</b></h2>"
   ]
  },
  {
   "cell_type": "markdown",
   "metadata": {},
   "source": [
    "<b>Với mỗi cột có kiểu dữ liệu dạng numeric, các giá trị được phân bố như thế nào?</b>\n",
    "\n",
    "Các cột dạng numeric là: Metascore, Number of critic reviews, User Score, Number of user reviews.\n",
    "\n",
    "Với mỗi cột numeric bạn sẽ tính tỉ lệ % giá trị thiếu (từ 0 đến 100), min, max. Bạn lưu kết quả vào dataframe `nume_col_profiles_df`. Dataframe này có 3 dòng là \"missing_ratio\", \"min\", \"max\"; và có 5 cột là \"Metascore\", \"Number of critic reviews\", \"User Score\", \"Number of user reviews\"."
   ]
  },
  {
   "cell_type": "code",
   "execution_count": 12,
   "metadata": {},
   "outputs": [
    {
     "name": "stdout",
     "output_type": "stream",
     "text": [
      "               Metascore  Number of critic reviews  User Score  \\\n",
      "missing_ratio        0.0                       0.0         0.0   \n",
      "min                 86.0                       7.0         2.1   \n",
      "max                 99.0                     132.0         9.6   \n",
      "\n",
      "               Number of user reviews  \n",
      "missing_ratio                     0.0  \n",
      "min                               4.0  \n",
      "max                          159969.0  \n"
     ]
    }
   ],
   "source": [
    "# YOUR CODE HERE\n",
    "nume_col_profiles_df = pd.DataFrame(\n",
    "    index=pd.Index(['missing_ratio', 'min','max']),\n",
    ")\n",
    "def col_profile(df):\n",
    "    missing_ratio = (df.isnull().sum() / df.shape[0]) * 100\n",
    "    min = df.min()\n",
    "    max = df.max()\n",
    "    result = [missing_ratio,min,max]\n",
    "    return result\n",
    "\n",
    "    \n",
    "nume_col_profiles_df['Metascore'] = col_profile(df_games_info['Metascore'])\n",
    "nume_col_profiles_df['Number of critic reviews'] = col_profile(df_games_info['Number of critic reviews'])\n",
    "nume_col_profiles_df['User Score'] = col_profile(df_games_info['User Score'])\n",
    "nume_col_profiles_df['Number of user reviews'] = col_profile(df_games_info['Number of user reviews'])\n",
    "\n",
    "\n",
    "print(nume_col_profiles_df)"
   ]
  },
  {
   "cell_type": "markdown",
   "metadata": {},
   "source": [
    "<b>Với mỗi cột có kiểu dữ liệu dạng categorical, các giá trị được phân bố như thế nào?</b>\n",
    "\n",
    "Với mỗi cột dạng categorical, bạn tính tỉ lệ % giá trị thiếu (từ 0 đến 100), số lượng giá trị khác nhau (không xét giá trị thiếu), list/array các giá trị khác nhau (không xét giá trị thiếu). Bạn lưu kết quả vào dataframe `cate_col_profiles_df`. Dataframe này có 3 dòng là \"missing_ratio\", \"num_diff_vals\", \"diff_vals\"; và có 7 cột là \"Title\", \"Release date\", \"Platform\", \"Other platforms\", \"Publisher\", \"Developer\", \"Genres\""
   ]
  },
  {
   "cell_type": "code",
   "execution_count": 13,
   "metadata": {},
   "outputs": [
    {
     "name": "stdout",
     "output_type": "stream",
     "text": [
      "                                                           Title  \\\n",
      "missing_ratio                                                0.0   \n",
      "num_diff_vals                                               1042   \n",
      "diff_vals      {Star Wars: Knights of the Old Republic II: Th...   \n",
      "\n",
      "                                                    Release date  \\\n",
      "missing_ratio                                                0.0   \n",
      "num_diff_vals                                               1019   \n",
      "diff_vals      {2020-09-01 00:00:00, 2008-10-28 00:00:00, 202...   \n",
      "\n",
      "                                                        Platform  \\\n",
      "missing_ratio                                                0.0   \n",
      "num_diff_vals                                                 21   \n",
      "diff_vals      {PlayStation 5, Dreamcast, PlayStation 4, DS, ...   \n",
      "\n",
      "                                                 Other platforms  \\\n",
      "missing_ratio                                          32.042724   \n",
      "num_diff_vals                                                268   \n",
      "diff_vals      {PlayStation 3,PlayStation 4,PlayStation Vita,...   \n",
      "\n",
      "                                                       Publisher  \\\n",
      "missing_ratio                                                0.0   \n",
      "num_diff_vals                                                216   \n",
      "diff_vals      {EA Sports Big, SCEA, D-Pad Studio, Focus Home...   \n",
      "\n",
      "                                                       Developer  \\\n",
      "missing_ratio                                           0.066756   \n",
      "num_diff_vals                                                451   \n",
      "diff_vals      {ConcernedApe, SCEA, Paradigm Entertainment, R...   \n",
      "\n",
      "                                                          Genres  \n",
      "missing_ratio                                                0.0  \n",
      "num_diff_vals                                                383  \n",
      "diff_vals      {Action,Fighting,Fighting,3D,2D,2D,3D, Action,...  \n"
     ]
    }
   ],
   "source": [
    "# YOUR CODE HERE\n",
    "cate_col_profiles_df = pd.DataFrame(\n",
    "    index = pd.Index(['missing_ratio','num_diff_vals','diff_vals'])\n",
    ")\n",
    "def cate_col_profile(df):\n",
    "    missing_ratio = (df.isnull().sum() / df.shape[0]) * 100\n",
    "    num_diff_vals = df.nunique()\n",
    "    temp = df\n",
    "    temp = temp.dropna()\n",
    "    diff_vals = set(temp)\n",
    "    result = [missing_ratio,num_diff_vals,diff_vals]\n",
    "    return result\n",
    "cate_col_profiles_df['Title'] = cate_col_profile(df_games_info['Title'])\n",
    "cate_col_profiles_df['Release date'] = cate_col_profile(df_games_info['Release date'])\n",
    "cate_col_profiles_df['Platform'] = cate_col_profile(df_games_info['Platform'])\n",
    "cate_col_profiles_df['Other platforms'] = cate_col_profile(df_games_info['Other platforms'])\n",
    "cate_col_profiles_df['Publisher'] = cate_col_profile(df_games_info['Publisher'])\n",
    "cate_col_profiles_df['Developer'] = cate_col_profile(df_games_info['Developer'])\n",
    "cate_col_profiles_df['Genres'] = cate_col_profile(df_games_info['Genres'])\n",
    "\n",
    "print(cate_col_profiles_df)"
   ]
  },
  {
   "cell_type": "markdown",
   "metadata": {},
   "source": [
    "## Đặt câu hỏi\n",
    "\n",
    "**Câu hỏi 1: Những thể loại game nào được người chơi đánh giá cao**"
   ]
  },
  {
   "cell_type": "code",
   "execution_count": 71,
   "metadata": {},
   "outputs": [
    {
     "data": {
      "text/plain": [
       "Genres\n",
       "Horror                   8.676471\n",
       "Military                 8.650000\n",
       "Kart                     8.650000\n",
       "Other                    8.600000\n",
       "Breeding/Constructing    8.600000\n",
       "Command                  8.536364\n",
       "Snowboarding             8.514286\n",
       "Space                    8.500000\n",
       "Tycoon                   8.500000\n",
       "PC-style RPG             8.495833\n",
       "dtype: float64"
      ]
     },
     "execution_count": 71,
     "metadata": {},
     "output_type": "execute_result"
    }
   ],
   "source": [
    "df = df_games_info.copy()\n",
    "\n",
    "df[\"Genres\"] = df.Genres.apply(lambda x: x[:].split(','))\n",
    "df = df.explode('Genres')\n",
    "\n",
    "sr1 = df.groupby([\"Genres\"])[\"User Score\"].sum()\n",
    "sr2 = df.groupby([\"Genres\"]).size()\n",
    "\n",
    "user_score_for_each_game_genre = sr1/sr2\n",
    "user_score_for_each_game_genre = user_score_for_each_game_genre.sort_values(ascending = False)\n",
    "\n",
    "user_score_for_each_game_genre.head(10)"
   ]
  },
  {
   "cell_type": "markdown",
   "metadata": {},
   "source": [
    "**Câu hỏi 2: Games được đánh giá cao nhất và thấp nhất trên nền tảng PC qua từng năm**"
   ]
  },
  {
   "cell_type": "code",
   "execution_count": 129,
   "metadata": {},
   "outputs": [],
   "source": [
    "df = df_games_info.copy()\n",
    "\n",
    "df[\"Other platforms\"] = df[\"Other platforms\"].fillna('No other platforms')\n",
    "\n",
    "df['All platforms'] = df['Platform'] + ',' + df['Other platforms']\n",
    "\n",
    "df[\"All platforms\"] = df[\"All platforms\"].apply(lambda x: x[:].split(','))\n",
    "df = df.explode('All platforms')\n",
    "\n",
    "df_PC = df.loc[df[\"All platforms\"] == \"PC\"]\n",
    "\n",
    "df_PC = df_PC[[\"Title\", \"Platform\", \"Other platforms\", \"Release date\", \"Genres\", \"Metascore\", \"User Score\"]]\n",
    "df_PC['Year'] = df_PC[\"Release date\"].dt.year\n",
    "\n",
    "metascore_sr1 = df_PC.groupby(['Year', 'Title', 'Genres'])['Metascore'].sum()\n",
    "metascore_sr2 = df_PC.groupby(['Year', 'Title', 'Genres'])['Metascore'].size()\n",
    "\n",
    "userscore_sr1 = df_PC.groupby(['Year', 'Title', 'Genres'])['User Score'].sum()\n",
    "userscore_sr2 = df_PC.groupby(['Year', 'Title', 'Genres'])['User Score'].size()\n",
    "\n",
    "metascore_each_game_pc = metascore_sr1/metascore_sr2\n",
    "userscore_each_game_pc = userscore_sr1/userscore_sr2\n",
    "\n",
    "score_for_each_game = (metascore_each_game_pc + 10*userscore_each_game_pc)/2\n",
    "\n",
    "highest_rated_pc_game = score_for_each_game.loc[score_for_each_game.groupby('Year').idxmax()]\n",
    "lowest_rated_pc_game = score_for_each_game.loc[score_for_each_game.groupby('Year').idxmin()]"
   ]
  },
  {
   "cell_type": "code",
   "execution_count": 132,
   "metadata": {},
   "outputs": [
    {
     "data": {
      "text/html": [
       "<div>\n",
       "<style scoped>\n",
       "    .dataframe tbody tr th:only-of-type {\n",
       "        vertical-align: middle;\n",
       "    }\n",
       "\n",
       "    .dataframe tbody tr th {\n",
       "        vertical-align: top;\n",
       "    }\n",
       "\n",
       "    .dataframe thead th {\n",
       "        text-align: right;\n",
       "    }\n",
       "</style>\n",
       "<table border=\"1\" class=\"dataframe\">\n",
       "  <thead>\n",
       "    <tr style=\"text-align: right;\">\n",
       "      <th></th>\n",
       "      <th></th>\n",
       "      <th></th>\n",
       "      <th>0</th>\n",
       "    </tr>\n",
       "    <tr>\n",
       "      <th>Year</th>\n",
       "      <th>Title</th>\n",
       "      <th>Genres</th>\n",
       "      <th></th>\n",
       "    </tr>\n",
       "  </thead>\n",
       "  <tbody>\n",
       "    <tr>\n",
       "      <th>1996</th>\n",
       "      <th>Sid Meier's Civilization II</th>\n",
       "      <th>Strategy,Turn-Based,Historic,General,Historic,4X</th>\n",
       "      <td>91.000000</td>\n",
       "    </tr>\n",
       "    <tr>\n",
       "      <th>1997</th>\n",
       "      <th>Final Fantasy VII</th>\n",
       "      <th>Role-Playing,Console-style RPG</th>\n",
       "      <td>90.500000</td>\n",
       "    </tr>\n",
       "    <tr>\n",
       "      <th>1998</th>\n",
       "      <th>Half-Life</th>\n",
       "      <th>Action,Shooter,Shooter,First-Person,Sci-Fi,Sci-Fi,Arcade</th>\n",
       "      <td>93.500000</td>\n",
       "    </tr>\n",
       "    <tr>\n",
       "      <th>1999</th>\n",
       "      <th>Resident Evil 3: Nemesis</th>\n",
       "      <th>Action Adventure,Survival</th>\n",
       "      <td>93.500000</td>\n",
       "    </tr>\n",
       "    <tr>\n",
       "      <th>2000</th>\n",
       "      <th>Baldur's Gate II: Shadows of Amn</th>\n",
       "      <th>Role-Playing,PC-style RPG,PC-style RPG,Western-Style</th>\n",
       "      <td>93.000000</td>\n",
       "    </tr>\n",
       "    <tr>\n",
       "      <th>2001</th>\n",
       "      <th>Halo: Combat Evolved</th>\n",
       "      <th>Action,Shooter,First-Person,Sci-Fi</th>\n",
       "      <td>92.000000</td>\n",
       "    </tr>\n",
       "    <tr>\n",
       "      <th>2002</th>\n",
       "      <th>Resident Evil (2002)</th>\n",
       "      <th>Action Adventure,Horror</th>\n",
       "      <td>93.500000</td>\n",
       "    </tr>\n",
       "    <tr>\n",
       "      <th>2003</th>\n",
       "      <th>Star Wars: Knights of the Old Republic</th>\n",
       "      <th>Role-Playing,Third-Person</th>\n",
       "      <td>92.500000</td>\n",
       "    </tr>\n",
       "    <tr>\n",
       "      <th>2004</th>\n",
       "      <th>Half-Life 2</th>\n",
       "      <th>Action,Shooter,Shooter,First-Person,Sci-Fi,Sci-Fi,Arcade</th>\n",
       "      <td>94.000000</td>\n",
       "    </tr>\n",
       "    <tr>\n",
       "      <th>2005</th>\n",
       "      <th>Resident Evil 4</th>\n",
       "      <th>Action Adventure,Horror</th>\n",
       "      <td>94.250000</td>\n",
       "    </tr>\n",
       "    <tr>\n",
       "      <th>2006</th>\n",
       "      <th>Company of Heroes</th>\n",
       "      <th>Strategy,Real-Time,Historic,General,Historic</th>\n",
       "      <td>90.000000</td>\n",
       "    </tr>\n",
       "    <tr>\n",
       "      <th>2007</th>\n",
       "      <th>BioShock</th>\n",
       "      <th>Action,Shooter,Shooter,First-Person,Sci-Fi,Sci-Fi,Arcade</th>\n",
       "      <td>92.000000</td>\n",
       "    </tr>\n",
       "    <tr>\n",
       "      <th>2008</th>\n",
       "      <th>BioShock</th>\n",
       "      <th>Action,Shooter,Shooter,First-Person,Sci-Fi,Sci-Fi,Arcade</th>\n",
       "      <td>92.000000</td>\n",
       "    </tr>\n",
       "    <tr>\n",
       "      <th>2009</th>\n",
       "      <th>Batman: Arkham Asylum</th>\n",
       "      <th>Action Adventure,Fantasy,General,Fantasy</th>\n",
       "      <td>89.333333</td>\n",
       "    </tr>\n",
       "    <tr>\n",
       "      <th>2010</th>\n",
       "      <th>Mass Effect 2</th>\n",
       "      <th>Role-Playing,Action RPG,Action RPG</th>\n",
       "      <td>92.000000</td>\n",
       "    </tr>\n",
       "    <tr>\n",
       "      <th>2011</th>\n",
       "      <th>Portal 2</th>\n",
       "      <th>Action,Shooter,Shooter,First-Person,Sci-Fi,Sci-Fi,Arcade</th>\n",
       "      <td>91.833333</td>\n",
       "    </tr>\n",
       "    <tr>\n",
       "      <th>2012</th>\n",
       "      <th>Journey</th>\n",
       "      <th>Action,Adventure,General,Platformer,Platformer,3D,3D</th>\n",
       "      <td>90.000000</td>\n",
       "    </tr>\n",
       "    <tr>\n",
       "      <th>2013</th>\n",
       "      <th>Grand Theft Auto V</th>\n",
       "      <th>Modern,Action Adventure,Modern,Open-World</th>\n",
       "      <td>90.000000</td>\n",
       "    </tr>\n",
       "    <tr>\n",
       "      <th>2014</th>\n",
       "      <th>Grand Theft Auto V</th>\n",
       "      <th>Action Adventure,Modern,Open-World</th>\n",
       "      <td>89.000000</td>\n",
       "    </tr>\n",
       "    <tr>\n",
       "      <th>2015</th>\n",
       "      <th>The Witcher 3: Wild Hunt</th>\n",
       "      <th>Action RPG,Role-Playing,Action RPG</th>\n",
       "      <td>91.666667</td>\n",
       "    </tr>\n",
       "    <tr>\n",
       "      <th>2016</th>\n",
       "      <th>The Witcher 3: Wild Hunt - Blood and Wine</th>\n",
       "      <th>Role-Playing,Action RPG</th>\n",
       "      <td>91.250000</td>\n",
       "    </tr>\n",
       "    <tr>\n",
       "      <th>2017</th>\n",
       "      <th>Divinity: Original Sin II</th>\n",
       "      <th>Action RPG,Role-Playing,Western-Style</th>\n",
       "      <td>90.500000</td>\n",
       "    </tr>\n",
       "    <tr>\n",
       "      <th>2018</th>\n",
       "      <th>God of War</th>\n",
       "      <th>Action Adventure,Linear</th>\n",
       "      <td>92.500000</td>\n",
       "    </tr>\n",
       "    <tr>\n",
       "      <th>2019</th>\n",
       "      <th>Resident Evil 2</th>\n",
       "      <th>Action Adventure,Survival</th>\n",
       "      <td>90.166667</td>\n",
       "    </tr>\n",
       "    <tr>\n",
       "      <th>2020</th>\n",
       "      <th>Half-Life: Alyx</th>\n",
       "      <th>Action,Shooter,First-Person,Arcade</th>\n",
       "      <td>92.500000</td>\n",
       "    </tr>\n",
       "    <tr>\n",
       "      <th>2021</th>\n",
       "      <th>Final Fantasy XIV: Endwalker</th>\n",
       "      <th>Role-Playing,Massively Multiplayer</th>\n",
       "      <td>90.500000</td>\n",
       "    </tr>\n",
       "    <tr>\n",
       "      <th>2022</th>\n",
       "      <th>God of War</th>\n",
       "      <th>Action Adventure,Linear</th>\n",
       "      <td>89.000000</td>\n",
       "    </tr>\n",
       "  </tbody>\n",
       "</table>\n",
       "</div>"
      ],
      "text/plain": [
       "                                                                                                           0\n",
       "Year Title                                     Genres                                                       \n",
       "1996 Sid Meier's Civilization II               Strategy,Turn-Based,Historic,General,Historic,4X    91.000000\n",
       "1997 Final Fantasy VII                         Role-Playing,Console-style RPG                      90.500000\n",
       "1998 Half-Life                                 Action,Shooter,Shooter,First-Person,Sci-Fi,Sci-...  93.500000\n",
       "1999 Resident Evil 3: Nemesis                  Action Adventure,Survival                           93.500000\n",
       "2000 Baldur's Gate II: Shadows of Amn          Role-Playing,PC-style RPG,PC-style RPG,Western-...  93.000000\n",
       "2001 Halo: Combat Evolved                      Action,Shooter,First-Person,Sci-Fi                  92.000000\n",
       "2002 Resident Evil (2002)                      Action Adventure,Horror                             93.500000\n",
       "2003 Star Wars: Knights of the Old Republic    Role-Playing,Third-Person                           92.500000\n",
       "2004 Half-Life 2                               Action,Shooter,Shooter,First-Person,Sci-Fi,Sci-...  94.000000\n",
       "2005 Resident Evil 4                           Action Adventure,Horror                             94.250000\n",
       "2006 Company of Heroes                         Strategy,Real-Time,Historic,General,Historic        90.000000\n",
       "2007 BioShock                                  Action,Shooter,Shooter,First-Person,Sci-Fi,Sci-...  92.000000\n",
       "2008 BioShock                                  Action,Shooter,Shooter,First-Person,Sci-Fi,Sci-...  92.000000\n",
       "2009 Batman: Arkham Asylum                     Action Adventure,Fantasy,General,Fantasy            89.333333\n",
       "2010 Mass Effect 2                             Role-Playing,Action RPG,Action RPG                  92.000000\n",
       "2011 Portal 2                                  Action,Shooter,Shooter,First-Person,Sci-Fi,Sci-...  91.833333\n",
       "2012 Journey                                   Action,Adventure,General,Platformer,Platformer,...  90.000000\n",
       "2013 Grand Theft Auto V                        Modern,Action Adventure,Modern,Open-World           90.000000\n",
       "2014 Grand Theft Auto V                        Action Adventure,Modern,Open-World                  89.000000\n",
       "2015 The Witcher 3: Wild Hunt                  Action RPG,Role-Playing,Action RPG                  91.666667\n",
       "2016 The Witcher 3: Wild Hunt - Blood and Wine Role-Playing,Action RPG                             91.250000\n",
       "2017 Divinity: Original Sin II                 Action RPG,Role-Playing,Western-Style               90.500000\n",
       "2018 God of War                                Action Adventure,Linear                             92.500000\n",
       "2019 Resident Evil 2                           Action Adventure,Survival                           90.166667\n",
       "2020 Half-Life: Alyx                           Action,Shooter,First-Person,Arcade                  92.500000\n",
       "2021 Final Fantasy XIV: Endwalker              Role-Playing,Massively Multiplayer                  90.500000\n",
       "2022 God of War                                Action Adventure,Linear                             89.000000"
      ]
     },
     "execution_count": 132,
     "metadata": {},
     "output_type": "execute_result"
    }
   ],
   "source": [
    "pd.DataFrame(highest_rated_pc_game)"
   ]
  },
  {
   "cell_type": "code",
   "execution_count": 133,
   "metadata": {},
   "outputs": [
    {
     "data": {
      "text/html": [
       "<div>\n",
       "<style scoped>\n",
       "    .dataframe tbody tr th:only-of-type {\n",
       "        vertical-align: middle;\n",
       "    }\n",
       "\n",
       "    .dataframe tbody tr th {\n",
       "        vertical-align: top;\n",
       "    }\n",
       "\n",
       "    .dataframe thead th {\n",
       "        text-align: right;\n",
       "    }\n",
       "</style>\n",
       "<table border=\"1\" class=\"dataframe\">\n",
       "  <thead>\n",
       "    <tr style=\"text-align: right;\">\n",
       "      <th></th>\n",
       "      <th></th>\n",
       "      <th></th>\n",
       "      <th>0</th>\n",
       "    </tr>\n",
       "    <tr>\n",
       "      <th>Year</th>\n",
       "      <th>Title</th>\n",
       "      <th>Genres</th>\n",
       "      <th></th>\n",
       "    </tr>\n",
       "  </thead>\n",
       "  <tbody>\n",
       "    <tr>\n",
       "      <th>1996</th>\n",
       "      <th>Tomb Raider</th>\n",
       "      <th>Action Adventure,Modern</th>\n",
       "      <td>87.500</td>\n",
       "    </tr>\n",
       "    <tr>\n",
       "      <th>1997</th>\n",
       "      <th>Sid Meier's Gettysburg!</th>\n",
       "      <th>Strategy,Real-Time,Wargame,Real-Time,General</th>\n",
       "      <td>83.000</td>\n",
       "    </tr>\n",
       "    <tr>\n",
       "      <th>1998</th>\n",
       "      <th>Shogo: Mobile Armor Division</th>\n",
       "      <th>Action,Shooter,Shooter,First-Person,Sci-Fi,Sci-Fi,Arcade</th>\n",
       "      <td>86.000</td>\n",
       "    </tr>\n",
       "    <tr>\n",
       "      <th>1999</th>\n",
       "      <th>Driver</th>\n",
       "      <th>Driving,Mission-based</th>\n",
       "      <td>83.000</td>\n",
       "    </tr>\n",
       "    <tr>\n",
       "      <th>2000</th>\n",
       "      <th>NHL 2001</th>\n",
       "      <th>Sports,Traditional,Team,Ice Hockey,Sim,Sim</th>\n",
       "      <td>77.500</td>\n",
       "    </tr>\n",
       "    <tr>\n",
       "      <th>2001</th>\n",
       "      <th>Madden NFL 2002</th>\n",
       "      <th>Sports,Traditional,Football,Sim</th>\n",
       "      <td>79.375</td>\n",
       "    </tr>\n",
       "    <tr>\n",
       "      <th>2002</th>\n",
       "      <th>Tiger Woods PGA Tour 2003</th>\n",
       "      <th>Sports,Traditional,Individual,Golf,Sim,Sim</th>\n",
       "      <td>71.000</td>\n",
       "    </tr>\n",
       "    <tr>\n",
       "      <th>2003</th>\n",
       "      <th>Madden NFL 2004</th>\n",
       "      <th>Sports,Traditional,Team,Football,Sim,Sim</th>\n",
       "      <td>81.000</td>\n",
       "    </tr>\n",
       "    <tr>\n",
       "      <th>2004</th>\n",
       "      <th>Tiger Woods PGA Tour 2005</th>\n",
       "      <th>Sports,Traditional,Individual,Golf,Sim,Sim</th>\n",
       "      <td>65.500</td>\n",
       "    </tr>\n",
       "    <tr>\n",
       "      <th>2005</th>\n",
       "      <th>Brothers in Arms: Road to Hill 30</th>\n",
       "      <th>Action,Shooter,Shooter,First-Person,Historic,Historic,Arcade</th>\n",
       "      <td>79.500</td>\n",
       "    </tr>\n",
       "    <tr>\n",
       "      <th>2006</th>\n",
       "      <th>World Soccer Winning Eleven 9</th>\n",
       "      <th>Sports,Traditional,Soccer,Sim</th>\n",
       "      <td>80.000</td>\n",
       "    </tr>\n",
       "    <tr>\n",
       "      <th>2007</th>\n",
       "      <th>World of Warcraft: The Burning Crusade</th>\n",
       "      <th>Role-Playing,Miscellaneous,Massively Multiplayer Online,Massively Multiplayer,Board / Card Game,Fantasy,Fantasy</th>\n",
       "      <td>75.500</td>\n",
       "    </tr>\n",
       "    <tr>\n",
       "      <th>2008</th>\n",
       "      <th>Guitar Hero World Tour</th>\n",
       "      <th>Action,Miscellaneous,Rhythm,Music,Music</th>\n",
       "      <td>80.000</td>\n",
       "    </tr>\n",
       "    <tr>\n",
       "      <th>2009</th>\n",
       "      <th>LostWinds: Winter of the Melodias</th>\n",
       "      <th>Action,Platformer,Platformer,3D,3D</th>\n",
       "      <td>59.500</td>\n",
       "    </tr>\n",
       "    <tr>\n",
       "      <th>2010</th>\n",
       "      <th>World of Warcraft: Cataclysm</th>\n",
       "      <th>Role-Playing,Miscellaneous,Massively Multiplayer Online,Massively Multiplayer,Board / Card Game,Fantasy,Fantasy</th>\n",
       "      <td>73.500</td>\n",
       "    </tr>\n",
       "    <tr>\n",
       "      <th>2011</th>\n",
       "      <th>Call of Duty: Modern Warfare 3</th>\n",
       "      <th>Action,Shooter,Shooter,First-Person,Modern,Modern,Arcade</th>\n",
       "      <td>61.250</td>\n",
       "    </tr>\n",
       "    <tr>\n",
       "      <th>2012</th>\n",
       "      <th>Diablo III</th>\n",
       "      <th>Role-Playing,Action RPG,Action RPG</th>\n",
       "      <td>65.000</td>\n",
       "    </tr>\n",
       "    <tr>\n",
       "      <th>2013</th>\n",
       "      <th>NBA 2K14</th>\n",
       "      <th>Sports,Traditional,Team,Basketball,Sim,Sim</th>\n",
       "      <td>68.500</td>\n",
       "    </tr>\n",
       "    <tr>\n",
       "      <th>2014</th>\n",
       "      <th>World of Warcraft: Warlords of Draenor</th>\n",
       "      <th>Role-Playing,Miscellaneous,Massively Multiplayer Online,Massively Multiplayer,Board / Card Game,Fantasy</th>\n",
       "      <td>65.500</td>\n",
       "    </tr>\n",
       "    <tr>\n",
       "      <th>2015</th>\n",
       "      <th>Her Story</th>\n",
       "      <th>Adventure,Visual Novel</th>\n",
       "      <td>74.000</td>\n",
       "    </tr>\n",
       "    <tr>\n",
       "      <th>2016</th>\n",
       "      <th>Out of the Park Baseball 17</th>\n",
       "      <th>Sports,Team,Baseball,Sim</th>\n",
       "      <td>62.500</td>\n",
       "    </tr>\n",
       "    <tr>\n",
       "      <th>2017</th>\n",
       "      <th>Destiny 2</th>\n",
       "      <th>Action,Shooter,First-Person,Arcade</th>\n",
       "      <td>65.500</td>\n",
       "    </tr>\n",
       "    <tr>\n",
       "      <th>2018</th>\n",
       "      <th>Destiny 2: Forsaken</th>\n",
       "      <th>Action,Shooter,First-Person,Arcade</th>\n",
       "      <td>70.500</td>\n",
       "    </tr>\n",
       "    <tr>\n",
       "      <th>2019</th>\n",
       "      <th>Sid Meier's Civilization VI</th>\n",
       "      <th>Strategy,Turn-Based,4X</th>\n",
       "      <td>76.250</td>\n",
       "    </tr>\n",
       "    <tr>\n",
       "      <th>2020</th>\n",
       "      <th>Huntdown</th>\n",
       "      <th>Action,General,Platformer,2D</th>\n",
       "      <td>72.000</td>\n",
       "    </tr>\n",
       "    <tr>\n",
       "      <th>2021</th>\n",
       "      <th>Deathloop</th>\n",
       "      <th>Action Adventure,General,Action,Shooter,First-Person,Arcade</th>\n",
       "      <td>71.000</td>\n",
       "    </tr>\n",
       "    <tr>\n",
       "      <th>2022</th>\n",
       "      <th>Monster Hunter Rise: Sunbreak</th>\n",
       "      <th>Role-Playing,Action RPG</th>\n",
       "      <td>60.500</td>\n",
       "    </tr>\n",
       "  </tbody>\n",
       "</table>\n",
       "</div>"
      ],
      "text/plain": [
       "                                                                                                     0\n",
       "Year Title                                  Genres                                                    \n",
       "1996 Tomb Raider                            Action Adventure,Modern                             87.500\n",
       "1997 Sid Meier's Gettysburg!                Strategy,Real-Time,Wargame,Real-Time,General        83.000\n",
       "1998 Shogo: Mobile Armor Division           Action,Shooter,Shooter,First-Person,Sci-Fi,Sci-...  86.000\n",
       "1999 Driver                                 Driving,Mission-based                               83.000\n",
       "2000 NHL 2001                               Sports,Traditional,Team,Ice Hockey,Sim,Sim          77.500\n",
       "2001 Madden NFL 2002                        Sports,Traditional,Football,Sim                     79.375\n",
       "2002 Tiger Woods PGA Tour 2003              Sports,Traditional,Individual,Golf,Sim,Sim          71.000\n",
       "2003 Madden NFL 2004                        Sports,Traditional,Team,Football,Sim,Sim            81.000\n",
       "2004 Tiger Woods PGA Tour 2005              Sports,Traditional,Individual,Golf,Sim,Sim          65.500\n",
       "2005 Brothers in Arms: Road to Hill 30      Action,Shooter,Shooter,First-Person,Historic,Hi...  79.500\n",
       "2006 World Soccer Winning Eleven 9          Sports,Traditional,Soccer,Sim                       80.000\n",
       "2007 World of Warcraft: The Burning Crusade Role-Playing,Miscellaneous,Massively Multiplaye...  75.500\n",
       "2008 Guitar Hero World Tour                 Action,Miscellaneous,Rhythm,Music,Music             80.000\n",
       "2009 LostWinds: Winter of the Melodias      Action,Platformer,Platformer,3D,3D                  59.500\n",
       "2010 World of Warcraft: Cataclysm           Role-Playing,Miscellaneous,Massively Multiplaye...  73.500\n",
       "2011 Call of Duty: Modern Warfare 3         Action,Shooter,Shooter,First-Person,Modern,Mode...  61.250\n",
       "2012 Diablo III                             Role-Playing,Action RPG,Action RPG                  65.000\n",
       "2013 NBA 2K14                               Sports,Traditional,Team,Basketball,Sim,Sim          68.500\n",
       "2014 World of Warcraft: Warlords of Draenor Role-Playing,Miscellaneous,Massively Multiplaye...  65.500\n",
       "2015 Her Story                              Adventure,Visual Novel                              74.000\n",
       "2016 Out of the Park Baseball 17            Sports,Team,Baseball,Sim                            62.500\n",
       "2017 Destiny 2                              Action,Shooter,First-Person,Arcade                  65.500\n",
       "2018 Destiny 2: Forsaken                    Action,Shooter,First-Person,Arcade                  70.500\n",
       "2019 Sid Meier's Civilization VI            Strategy,Turn-Based,4X                              76.250\n",
       "2020 Huntdown                               Action,General,Platformer,2D                        72.000\n",
       "2021 Deathloop                              Action Adventure,General,Action,Shooter,First-P...  71.000\n",
       "2022 Monster Hunter Rise: Sunbreak          Role-Playing,Action RPG                             60.500"
      ]
     },
     "execution_count": 133,
     "metadata": {},
     "output_type": "execute_result"
    }
   ],
   "source": [
    "pd.DataFrame(lowest_rated_pc_game)"
   ]
  },
  {
   "cell_type": "markdown",
   "metadata": {},
   "source": [
    "**Câu hỏi 3: Trong top 10 nhà phát hành phát hành nhiều game nhất thì các game được phát hành bởi nhà phát hành nào được đánh giá cao nhất, và thấp nhất?**"
   ]
  },
  {
   "cell_type": "code",
   "execution_count": 156,
   "metadata": {},
   "outputs": [
    {
     "data": {
      "text/plain": [
       "Publisher\n",
       "Nintendo                  87.813492\n",
       "Rockstar Games            86.824324\n",
       "SCEA                      86.400000\n",
       "Ubisoft                   85.759259\n",
       "Capcom                    85.370690\n",
       "Microsoft Game Studios    84.820312\n",
       "Sega                      84.081081\n",
       "Electronic Arts           83.554348\n",
       "Activision                81.881356\n",
       "EA Sports                 81.473684\n",
       "dtype: float64"
      ]
     },
     "execution_count": 156,
     "metadata": {},
     "output_type": "execute_result"
    }
   ],
   "source": [
    "df = df_games_info.copy()\n",
    "\n",
    "df['Year'] = df['Release date'].dt.year\n",
    "top_publisher = df.groupby(['Publisher']).size().sort_values(ascending = False).head(10)\n",
    "\n",
    "list_top_publisher = top_publisher.index.to_list()\n",
    "\n",
    "df_top_publisher = df[df['Publisher'].isin(list_top_publisher)]\n",
    "\n",
    "publisher_metascore_sr1 = df_top_publisher.groupby(['Publisher'])['Metascore'].sum()\n",
    "publisher_metascore_sr2 = df_top_publisher.groupby('Publisher')['Metascore'].size()\n",
    "\n",
    "publisher_userscore_sr1 = df_top_publisher.groupby(['Publisher'])['User Score'].sum()\n",
    "publisher_userscore_sr2 = df_top_publisher.groupby('Publisher')['User Score'].size()\n",
    "\n",
    "publisher_metascore = publisher_metascore_sr1/publisher_metascore_sr2\n",
    "publisher_userscore = publisher_userscore_sr1/publisher_userscore_sr2\n",
    "\n",
    "publisher_score = (publisher_metascore + publisher_userscore*10)/2\n",
    "\n",
    "publisher_score.sort_values(ascending = False)"
   ]
  },
  {
   "cell_type": "code",
   "execution_count": null,
   "metadata": {},
   "outputs": [],
   "source": []
  }
 ],
 "metadata": {
  "kernelspec": {
   "display_name": "Python 3.9.12 ('base')",
   "language": "python",
   "name": "python3"
  },
  "language_info": {
   "codemirror_mode": {
    "name": "ipython",
    "version": 3
   },
   "file_extension": ".py",
   "mimetype": "text/x-python",
   "name": "python",
   "nbconvert_exporter": "python",
   "pygments_lexer": "ipython3",
   "version": "3.9.12"
  },
  "vscode": {
   "interpreter": {
    "hash": "16f5b46f222e2a3e8d4adbf7141cae37b71ed37616e60735fa5d1164a1bc3ada"
   }
  }
 },
 "nbformat": 4,
 "nbformat_minor": 2
}
