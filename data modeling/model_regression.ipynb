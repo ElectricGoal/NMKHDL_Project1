{
 "cells": [
  {
   "cell_type": "code",
   "execution_count": 1,
   "metadata": {},
   "outputs": [],
   "source": [
    "import pandas as pd\n",
    "import matplotlib.pyplot as plt\n",
    "import numpy as np\n",
    "from sklearn.tree import DecisionTreeRegressor\n",
    "from sklearn.neighbors import KNeighborsRegressor\n",
    "from sklearn.svm import SVR\n",
    "from sklearn.model_selection import GridSearchCV\n",
    "from sklearn.preprocessing import RobustScaler\n",
    "from sklearn.preprocessing import OneHotEncoder\n",
    "from sklearn.model_selection import train_test_split\n",
    "from sklearn.metrics import mean_squared_error\n",
    "import seaborn as sns\n",
    "\n",
    "size=15\n",
    "params = {'legend.fontsize': 'large',\n",
    "          'figure.figsize': (20,4),\n",
    "          'axes.labelsize': size,\n",
    "          'axes.titlesize': size,\n",
    "          'xtick.labelsize': size*0.75,\n",
    "          'ytick.labelsize': size*0.75,\n",
    "          'axes.titlepad': 25}\n",
    "plt.rcParams.update(params)"
   ]
  },
  {
   "cell_type": "code",
   "execution_count": 2,
   "metadata": {},
   "outputs": [],
   "source": [
    "# Read data from csv\n",
    "DATA_PATH = '../data/games_info_bigger.csv'\n",
    "df = pd.read_csv(DATA_PATH)"
   ]
  },
  {
   "cell_type": "code",
   "execution_count": 3,
   "metadata": {},
   "outputs": [
    {
     "data": {
      "text/html": [
       "<div>\n",
       "<style scoped>\n",
       "    .dataframe tbody tr th:only-of-type {\n",
       "        vertical-align: middle;\n",
       "    }\n",
       "\n",
       "    .dataframe tbody tr th {\n",
       "        vertical-align: top;\n",
       "    }\n",
       "\n",
       "    .dataframe thead th {\n",
       "        text-align: right;\n",
       "    }\n",
       "</style>\n",
       "<table border=\"1\" class=\"dataframe\">\n",
       "  <thead>\n",
       "    <tr style=\"text-align: right;\">\n",
       "      <th></th>\n",
       "      <th>Title</th>\n",
       "      <th>Release date</th>\n",
       "      <th>Platform</th>\n",
       "      <th>Other platforms</th>\n",
       "      <th>Publisher</th>\n",
       "      <th>Developer</th>\n",
       "      <th>Genres</th>\n",
       "      <th>Rating</th>\n",
       "      <th>Number of players</th>\n",
       "      <th>Metascore</th>\n",
       "      <th>Number of critic reviews</th>\n",
       "      <th>User Score</th>\n",
       "      <th>Number of user reviews</th>\n",
       "    </tr>\n",
       "  </thead>\n",
       "  <tbody>\n",
       "    <tr>\n",
       "      <th>0</th>\n",
       "      <td>Portal Companion Collection</td>\n",
       "      <td>Jun 28, 2022</td>\n",
       "      <td>Switch</td>\n",
       "      <td>NaN</td>\n",
       "      <td>Valve Software</td>\n",
       "      <td>Valve Software</td>\n",
       "      <td>Miscellaneous,Compilation</td>\n",
       "      <td>NaN</td>\n",
       "      <td>NaN</td>\n",
       "      <td>96.0</td>\n",
       "      <td>9</td>\n",
       "      <td>8.0</td>\n",
       "      <td>101</td>\n",
       "    </tr>\n",
       "    <tr>\n",
       "      <th>1</th>\n",
       "      <td>Elden Ring</td>\n",
       "      <td>Feb 25, 2022</td>\n",
       "      <td>Xbox Series X</td>\n",
       "      <td>PC,PlayStation 4,PlayStation 5,Xbox One</td>\n",
       "      <td>Bandai Namco Games</td>\n",
       "      <td>From Software</td>\n",
       "      <td>Role-Playing,Action RPG</td>\n",
       "      <td>M</td>\n",
       "      <td>Up to 4</td>\n",
       "      <td>96.0</td>\n",
       "      <td>19</td>\n",
       "      <td>7.7</td>\n",
       "      <td>2509</td>\n",
       "    </tr>\n",
       "    <tr>\n",
       "      <th>2</th>\n",
       "      <td>Elden Ring</td>\n",
       "      <td>Feb 25, 2022</td>\n",
       "      <td>PlayStation 5</td>\n",
       "      <td>PC,PlayStation 4,Xbox One,Xbox Series X</td>\n",
       "      <td>Bandai Namco Games</td>\n",
       "      <td>From Software</td>\n",
       "      <td>Role-Playing,Action RPG</td>\n",
       "      <td>M</td>\n",
       "      <td>Up to 4</td>\n",
       "      <td>96.0</td>\n",
       "      <td>84</td>\n",
       "      <td>7.8</td>\n",
       "      <td>10647</td>\n",
       "    </tr>\n",
       "    <tr>\n",
       "      <th>3</th>\n",
       "      <td>Persona 5 Royal</td>\n",
       "      <td>Oct 21, 2022</td>\n",
       "      <td>PC</td>\n",
       "      <td>PlayStation 4,PlayStation 5,Switch,Xbox One,Xb...</td>\n",
       "      <td>Sega</td>\n",
       "      <td>Atlus</td>\n",
       "      <td>Role-Playing,Japanese-Style</td>\n",
       "      <td>M</td>\n",
       "      <td>No Online Multiplayer</td>\n",
       "      <td>95.0</td>\n",
       "      <td>13</td>\n",
       "      <td>8.7</td>\n",
       "      <td>197</td>\n",
       "    </tr>\n",
       "    <tr>\n",
       "      <th>4</th>\n",
       "      <td>Persona 5 Royal</td>\n",
       "      <td>Oct 21, 2022</td>\n",
       "      <td>Xbox Series X</td>\n",
       "      <td>PC,PlayStation 4,PlayStation 5,Switch,Xbox One</td>\n",
       "      <td>Sega</td>\n",
       "      <td>Atlus</td>\n",
       "      <td>Role-Playing,Japanese-Style</td>\n",
       "      <td>M</td>\n",
       "      <td>No Online Multiplayer</td>\n",
       "      <td>94.0</td>\n",
       "      <td>9</td>\n",
       "      <td>8.5</td>\n",
       "      <td>105</td>\n",
       "    </tr>\n",
       "  </tbody>\n",
       "</table>\n",
       "</div>"
      ],
      "text/plain": [
       "                         Title  Release date       Platform  \\\n",
       "0  Portal Companion Collection  Jun 28, 2022         Switch   \n",
       "1                   Elden Ring  Feb 25, 2022  Xbox Series X   \n",
       "2                   Elden Ring  Feb 25, 2022  PlayStation 5   \n",
       "3              Persona 5 Royal  Oct 21, 2022             PC   \n",
       "4              Persona 5 Royal  Oct 21, 2022  Xbox Series X   \n",
       "\n",
       "                                     Other platforms           Publisher  \\\n",
       "0                                                NaN      Valve Software   \n",
       "1            PC,PlayStation 4,PlayStation 5,Xbox One  Bandai Namco Games   \n",
       "2            PC,PlayStation 4,Xbox One,Xbox Series X  Bandai Namco Games   \n",
       "3  PlayStation 4,PlayStation 5,Switch,Xbox One,Xb...                Sega   \n",
       "4     PC,PlayStation 4,PlayStation 5,Switch,Xbox One                Sega   \n",
       "\n",
       "        Developer                       Genres Rating      Number of players  \\\n",
       "0  Valve Software    Miscellaneous,Compilation    NaN                    NaN   \n",
       "1   From Software      Role-Playing,Action RPG      M                Up to 4   \n",
       "2   From Software      Role-Playing,Action RPG      M                Up to 4   \n",
       "3           Atlus  Role-Playing,Japanese-Style      M  No Online Multiplayer   \n",
       "4           Atlus  Role-Playing,Japanese-Style      M  No Online Multiplayer   \n",
       "\n",
       "   Metascore  Number of critic reviews  User Score  Number of user reviews  \n",
       "0       96.0                         9         8.0                     101  \n",
       "1       96.0                        19         7.7                    2509  \n",
       "2       96.0                        84         7.8                   10647  \n",
       "3       95.0                        13         8.7                     197  \n",
       "4       94.0                         9         8.5                     105  "
      ]
     },
     "execution_count": 3,
     "metadata": {},
     "output_type": "execute_result"
    }
   ],
   "source": [
    "df.head()"
   ]
  },
  {
   "attachments": {},
   "cell_type": "markdown",
   "metadata": {},
   "source": [
    "## Đặt bài toán cần giải quyết\n",
    "\n",
    "#### Bài toán nhóm đặt ra là Sử dụng các Regression model để dự đoán giá trị User score"
   ]
  },
  {
   "attachments": {},
   "cell_type": "markdown",
   "metadata": {},
   "source": [
    "## Tiền xử lý"
   ]
  },
  {
   "attachments": {},
   "cell_type": "markdown",
   "metadata": {},
   "source": [
    "Do cột `Publisher` có khá nhiều công ty nên mình chỉ lấy 10 công ty có số lượng nhiều nhất (thường là những công ty nổi tiếng)"
   ]
  },
  {
   "cell_type": "code",
   "execution_count": 4,
   "metadata": {},
   "outputs": [
    {
     "data": {
      "text/plain": [
       "Nintendo                  158\n",
       "Electronic Arts           132\n",
       "Sega                      114\n",
       "EA Sports                 107\n",
       "Ubisoft                    99\n",
       "SCEA                       97\n",
       "Capcom                     92\n",
       "Microsoft Game Studios     89\n",
       "Activision                 88\n",
       "Square Enix                69\n",
       "Name: Publisher, dtype: int64"
      ]
     },
     "execution_count": 4,
     "metadata": {},
     "output_type": "execute_result"
    }
   ],
   "source": [
    "df[\"Publisher\"].value_counts().head(10)"
   ]
  },
  {
   "attachments": {},
   "cell_type": "markdown",
   "metadata": {},
   "source": [
    "Thực hiện <b>One-Hot encoding</b> với cột `Publisher`, các công ty không nằm trong 10 công ty lớn thì bỏ vào cột `Other companies`"
   ]
  },
  {
   "cell_type": "code",
   "execution_count": 5,
   "metadata": {},
   "outputs": [],
   "source": [
    "big_companies = ['Nintendo', 'Electronic Arts', 'Sega', 'EA Sports', 'Ubisoft', 'SCEA', 'Capcom', 'Microsoft Game Studios', 'Activision', 'Square Enix']\n",
    "\n",
    "def handle_publisher(x):\n",
    "    if x not in big_companies:\n",
    "        return 'Other companies'\n",
    "    return x\n",
    "\n",
    "\n",
    "df['Publisher'].fillna('Other companies')\n",
    "df['Publisher'] = df['Publisher'].astype('str').apply(lambda x: handle_publisher(x))\n",
    "\n",
    "one_hot = pd.get_dummies(df[\"Publisher\"])\n",
    "df = pd.concat([df, one_hot], axis=1, join='inner')"
   ]
  },
  {
   "attachments": {},
   "cell_type": "markdown",
   "metadata": {},
   "source": [
    "Tiếp tục thực hiện <b>One-Hot encoding</b> với cột `Platform`"
   ]
  },
  {
   "cell_type": "code",
   "execution_count": 6,
   "metadata": {},
   "outputs": [],
   "source": [
    "one_hot = pd.get_dummies(df[\"Platform\"])\n",
    "df = pd.concat([df, one_hot], axis=1, join='inner')"
   ]
  },
  {
   "attachments": {},
   "cell_type": "markdown",
   "metadata": {},
   "source": [
    "Loại bỏ cột `Release date`, `Platform`, `Publisher`, `Title`, `Other platforms`, `Metascore`, `Number of critic reviews`, `Number of user reviews`, `Developer`"
   ]
  },
  {
   "cell_type": "code",
   "execution_count": 7,
   "metadata": {},
   "outputs": [],
   "source": [
    "df = df.drop(columns=[\n",
    "    'Release date', \n",
    "    'Platform',\n",
    "    'Publisher', \n",
    "    'Title', \n",
    "    'Other platforms', \n",
    "    'Metascore', \n",
    "    'Number of critic reviews', \n",
    "    'Number of user reviews', \n",
    "    'Developer']\n",
    ")"
   ]
  },
  {
   "attachments": {},
   "cell_type": "markdown",
   "metadata": {},
   "source": [
    "Thay thế các giá trị nan trong cột `Rating` bằng giá trị xuất hiện nhiều nhất trong cột\n",
    "\n",
    "Chuyển các giá trị trong cột `Rating` từ string sang integer như trong phần tiền xử lý dữ liệu"
   ]
  },
  {
   "cell_type": "code",
   "execution_count": 8,
   "metadata": {},
   "outputs": [],
   "source": [
    "df['Rating'] = df['Rating'].fillna(df['Rating'].mode()[0])\n",
    "def handle_rating(x):\n",
    "    if x == 'E':\n",
    "        return str(3)\n",
    "    if x == 'K-A':\n",
    "        return str(6)\n",
    "    if x == 'E10+':\n",
    "        return str(10)\n",
    "    if x == 'T':\n",
    "        return str(13)\n",
    "    if x == 'M':\n",
    "        return str(17)\n",
    "    if x == 'AO':\n",
    "        return str(18)\n",
    "\n",
    "df['Rating'] = df['Rating'].astype('str').apply(lambda x: handle_rating(x)).astype(int)"
   ]
  },
  {
   "attachments": {},
   "cell_type": "markdown",
   "metadata": {},
   "source": [
    "* Cột `Genres` mở rộng thành nhiều cột khác, mỗi genre là một cột và thể hiện bằng giá trị int.\n",
    "* Cột `Number of players` lấy giá trị số lượng người chơi cao nhất trong chuỗi string; riêng 'Massively Multiplayer', 'Online Multiplayer' thay bằng giá trị 100 sau đó thay thế các giá trị nan trong cột bằng giá trị xuất hiện nhiều nhất trong cột.\n",
    "* Bỏ cột `Genres`."
   ]
  },
  {
   "cell_type": "code",
   "execution_count": 9,
   "metadata": {},
   "outputs": [],
   "source": [
    "# Xử lý cột Genres\n",
    "genres_df = df['Genres'].str.split(',', expand=True).apply(pd.value_counts, axis=1).fillna(0)\n",
    "for col in genres_df:\n",
    "    genres_df[col] = genres_df[col].astype(int)\n",
    "\n",
    "df = pd.concat([df, genres_df], axis=1, join='inner')\n",
    "\n",
    "# Xử lý cột Number of players\n",
    "def handle_n_players(x):\n",
    "    if x in ['Massively Multiplayer', 'Online Multiplayer']:\n",
    "        return str(100)\n",
    "\n",
    "    tokens = x.replace('+', ' ').replace('-', ' ').split()\n",
    "    max_player = 1\n",
    "    for token in tokens:\n",
    "        if token.isdigit():\n",
    "            max_player = max(max_player, int(token))\n",
    "    return str(max_player)\n",
    "\n",
    "df['Number of players'] = df['Number of players'].astype('str').apply(lambda x: handle_n_players(x)).astype(int)\n",
    "df['Number of players'] = df['Number of players'].fillna(df['Number of players'].mode()[0])\n",
    "\n",
    "# Loại bỏ cột Genres\n",
    "df = df.drop(columns=['Genres'])"
   ]
  },
  {
   "attachments": {},
   "cell_type": "markdown",
   "metadata": {},
   "source": [
    "Dữ liệu sau khi tiền xử lý"
   ]
  },
  {
   "cell_type": "code",
   "execution_count": 10,
   "metadata": {},
   "outputs": [
    {
     "data": {
      "text/html": [
       "<div>\n",
       "<style scoped>\n",
       "    .dataframe tbody tr th:only-of-type {\n",
       "        vertical-align: middle;\n",
       "    }\n",
       "\n",
       "    .dataframe tbody tr th {\n",
       "        vertical-align: top;\n",
       "    }\n",
       "\n",
       "    .dataframe thead th {\n",
       "        text-align: right;\n",
       "    }\n",
       "</style>\n",
       "<table border=\"1\" class=\"dataframe\">\n",
       "  <thead>\n",
       "    <tr style=\"text-align: right;\">\n",
       "      <th></th>\n",
       "      <th>Rating</th>\n",
       "      <th>Number of players</th>\n",
       "      <th>User Score</th>\n",
       "      <th>Activision</th>\n",
       "      <th>Capcom</th>\n",
       "      <th>EA Sports</th>\n",
       "      <th>Electronic Arts</th>\n",
       "      <th>Microsoft Game Studios</th>\n",
       "      <th>Nintendo</th>\n",
       "      <th>Other companies</th>\n",
       "      <th>...</th>\n",
       "      <th>Tycoon</th>\n",
       "      <th>Vehicle</th>\n",
       "      <th>Vertical</th>\n",
       "      <th>Virtual</th>\n",
       "      <th>Virtual Life</th>\n",
       "      <th>Visual Novel</th>\n",
       "      <th>WWII</th>\n",
       "      <th>Wargame</th>\n",
       "      <th>Western-Style</th>\n",
       "      <th>Wrestling</th>\n",
       "    </tr>\n",
       "  </thead>\n",
       "  <tbody>\n",
       "    <tr>\n",
       "      <th>0</th>\n",
       "      <td>13</td>\n",
       "      <td>1</td>\n",
       "      <td>8.0</td>\n",
       "      <td>0</td>\n",
       "      <td>0</td>\n",
       "      <td>0</td>\n",
       "      <td>0</td>\n",
       "      <td>0</td>\n",
       "      <td>0</td>\n",
       "      <td>1</td>\n",
       "      <td>...</td>\n",
       "      <td>0</td>\n",
       "      <td>0</td>\n",
       "      <td>0</td>\n",
       "      <td>0</td>\n",
       "      <td>0</td>\n",
       "      <td>0</td>\n",
       "      <td>0</td>\n",
       "      <td>0</td>\n",
       "      <td>0</td>\n",
       "      <td>0</td>\n",
       "    </tr>\n",
       "    <tr>\n",
       "      <th>1</th>\n",
       "      <td>17</td>\n",
       "      <td>4</td>\n",
       "      <td>7.7</td>\n",
       "      <td>0</td>\n",
       "      <td>0</td>\n",
       "      <td>0</td>\n",
       "      <td>0</td>\n",
       "      <td>0</td>\n",
       "      <td>0</td>\n",
       "      <td>1</td>\n",
       "      <td>...</td>\n",
       "      <td>0</td>\n",
       "      <td>0</td>\n",
       "      <td>0</td>\n",
       "      <td>0</td>\n",
       "      <td>0</td>\n",
       "      <td>0</td>\n",
       "      <td>0</td>\n",
       "      <td>0</td>\n",
       "      <td>0</td>\n",
       "      <td>0</td>\n",
       "    </tr>\n",
       "    <tr>\n",
       "      <th>2</th>\n",
       "      <td>17</td>\n",
       "      <td>4</td>\n",
       "      <td>7.8</td>\n",
       "      <td>0</td>\n",
       "      <td>0</td>\n",
       "      <td>0</td>\n",
       "      <td>0</td>\n",
       "      <td>0</td>\n",
       "      <td>0</td>\n",
       "      <td>1</td>\n",
       "      <td>...</td>\n",
       "      <td>0</td>\n",
       "      <td>0</td>\n",
       "      <td>0</td>\n",
       "      <td>0</td>\n",
       "      <td>0</td>\n",
       "      <td>0</td>\n",
       "      <td>0</td>\n",
       "      <td>0</td>\n",
       "      <td>0</td>\n",
       "      <td>0</td>\n",
       "    </tr>\n",
       "    <tr>\n",
       "      <th>3</th>\n",
       "      <td>17</td>\n",
       "      <td>1</td>\n",
       "      <td>8.7</td>\n",
       "      <td>0</td>\n",
       "      <td>0</td>\n",
       "      <td>0</td>\n",
       "      <td>0</td>\n",
       "      <td>0</td>\n",
       "      <td>0</td>\n",
       "      <td>0</td>\n",
       "      <td>...</td>\n",
       "      <td>0</td>\n",
       "      <td>0</td>\n",
       "      <td>0</td>\n",
       "      <td>0</td>\n",
       "      <td>0</td>\n",
       "      <td>0</td>\n",
       "      <td>0</td>\n",
       "      <td>0</td>\n",
       "      <td>0</td>\n",
       "      <td>0</td>\n",
       "    </tr>\n",
       "    <tr>\n",
       "      <th>4</th>\n",
       "      <td>17</td>\n",
       "      <td>1</td>\n",
       "      <td>8.5</td>\n",
       "      <td>0</td>\n",
       "      <td>0</td>\n",
       "      <td>0</td>\n",
       "      <td>0</td>\n",
       "      <td>0</td>\n",
       "      <td>0</td>\n",
       "      <td>0</td>\n",
       "      <td>...</td>\n",
       "      <td>0</td>\n",
       "      <td>0</td>\n",
       "      <td>0</td>\n",
       "      <td>0</td>\n",
       "      <td>0</td>\n",
       "      <td>0</td>\n",
       "      <td>0</td>\n",
       "      <td>0</td>\n",
       "      <td>0</td>\n",
       "      <td>0</td>\n",
       "    </tr>\n",
       "  </tbody>\n",
       "</table>\n",
       "<p>5 rows × 172 columns</p>\n",
       "</div>"
      ],
      "text/plain": [
       "   Rating  Number of players  User Score  Activision  Capcom  EA Sports  \\\n",
       "0      13                  1         8.0           0       0          0   \n",
       "1      17                  4         7.7           0       0          0   \n",
       "2      17                  4         7.8           0       0          0   \n",
       "3      17                  1         8.7           0       0          0   \n",
       "4      17                  1         8.5           0       0          0   \n",
       "\n",
       "   Electronic Arts  Microsoft Game Studios  Nintendo  Other companies  ...  \\\n",
       "0                0                       0         0                1  ...   \n",
       "1                0                       0         0                1  ...   \n",
       "2                0                       0         0                1  ...   \n",
       "3                0                       0         0                0  ...   \n",
       "4                0                       0         0                0  ...   \n",
       "\n",
       "   Tycoon  Vehicle  Vertical  Virtual  Virtual Life  Visual Novel  WWII  \\\n",
       "0       0        0         0        0             0             0     0   \n",
       "1       0        0         0        0             0             0     0   \n",
       "2       0        0         0        0             0             0     0   \n",
       "3       0        0         0        0             0             0     0   \n",
       "4       0        0         0        0             0             0     0   \n",
       "\n",
       "   Wargame  Western-Style  Wrestling  \n",
       "0        0              0          0  \n",
       "1        0              0          0  \n",
       "2        0              0          0  \n",
       "3        0              0          0  \n",
       "4        0              0          0  \n",
       "\n",
       "[5 rows x 172 columns]"
      ]
     },
     "execution_count": 10,
     "metadata": {},
     "output_type": "execute_result"
    }
   ],
   "source": [
    "df.head(5)"
   ]
  },
  {
   "attachments": {},
   "cell_type": "markdown",
   "metadata": {},
   "source": [
    "Phân chia dữ liệu thành 2 set: `training set` (75%) và `testing set` (25%)"
   ]
  },
  {
   "cell_type": "code",
   "execution_count": 11,
   "metadata": {},
   "outputs": [],
   "source": [
    "x = df.drop(['User Score'] , axis = 1).values\n",
    "y= df['User Score'].values\n",
    "x_train , x_test , y_train , y_test = train_test_split(x,y , test_size= 0.25 , random_state=42)"
   ]
  },
  {
   "attachments": {},
   "cell_type": "markdown",
   "metadata": {},
   "source": [
    "Scale dữ liệu sử dụng <b>RobustScaler</b>"
   ]
  },
  {
   "cell_type": "code",
   "execution_count": 12,
   "metadata": {},
   "outputs": [
    {
     "name": "stdout",
     "output_type": "stream",
     "text": [
      "x_train = 1719 and y_train = (1719,) \n",
      "x_test = 573 and y_test = (573,) \n"
     ]
    }
   ],
   "source": [
    "ro_scaler = RobustScaler()\n",
    "x_train = ro_scaler.fit_transform(x_train)\n",
    "x_test = ro_scaler.fit_transform(x_test)\n",
    "r, c = x_train.shape\n",
    "r2 ,c2 = x_test.shape\n",
    "print (f\"x_train = {r} and y_train = {y_train.shape} \")\n",
    "print (f\"x_test = {r2} and y_test = {y_test.shape} \")"
   ]
  },
  {
   "attachments": {},
   "cell_type": "markdown",
   "metadata": {},
   "source": [
    "## Mô hình hoá dữ liệu"
   ]
  },
  {
   "attachments": {},
   "cell_type": "markdown",
   "metadata": {},
   "source": [
    "Nhóm sử dụng 3 regression model: `K Neighbors Regressor`, `SVR` , `Decision Tree Regressor` để phân loại <b>User score</b>\n",
    "\n",
    "Sử dụng `GridSearchCV` để xác định các hyperparameter cho model"
   ]
  },
  {
   "attachments": {},
   "cell_type": "markdown",
   "metadata": {},
   "source": [
    "#### 1. KNN"
   ]
  },
  {
   "cell_type": "code",
   "execution_count": 13,
   "metadata": {},
   "outputs": [],
   "source": [
    "knn_params = {\"n_neighbors\": np.arange(2,30,1)}\n",
    "\n",
    "knn_model = KNeighborsRegressor()\n",
    "\n",
    "knn_cv_model = GridSearchCV(knn_model, knn_params, cv = 10).fit(x_train, y_train)"
   ]
  },
  {
   "cell_type": "code",
   "execution_count": 14,
   "metadata": {},
   "outputs": [
    {
     "data": {
      "text/plain": [
       "{'n_neighbors': 14}"
      ]
     },
     "execution_count": 14,
     "metadata": {},
     "output_type": "execute_result"
    }
   ],
   "source": [
    "knn_cv_model.best_params_"
   ]
  },
  {
   "cell_type": "code",
   "execution_count": 15,
   "metadata": {},
   "outputs": [],
   "source": [
    "knn_tuned = KNeighborsRegressor(**knn_cv_model.best_params_).fit(x_train, y_train)"
   ]
  },
  {
   "attachments": {},
   "cell_type": "markdown",
   "metadata": {},
   "source": [
    "Tính toán các thông số đánh giá `MSE`, `RMSE`, `R square`"
   ]
  },
  {
   "cell_type": "code",
   "execution_count": 16,
   "metadata": {},
   "outputs": [
    {
     "name": "stdout",
     "output_type": "stream",
     "text": [
      "The Mean Square Error(MSE) or J(theta) is:  0.7061827296363572\n",
      "The Root Mean Square Error(RMSE) is:  0.8403467912929502\n",
      "R square obtain for scikit learn library is : 0.17066221740623122\n"
     ]
    }
   ],
   "source": [
    "# sklearn regression module\n",
    "y_pred = knn_tuned.predict(x_test)\n",
    "\n",
    "#Evaluvation: MSE\n",
    "J_mse = mean_squared_error(y_test, y_pred)\n",
    "\n",
    "#Evaluvation: RMSE\n",
    "rmse = mean_squared_error(y_test, y_pred, squared=False)\n",
    "\n",
    "# R_square\n",
    "R_square = knn_tuned.score(x_test, y_test)\n",
    "\n",
    "print('The Mean Square Error(MSE) or J(theta) is: ', J_mse)\n",
    "print('The Root Mean Square Error(RMSE) is: ', rmse)\n",
    "print('R square obtain for scikit learn library is :', R_square)"
   ]
  },
  {
   "attachments": {},
   "cell_type": "markdown",
   "metadata": {},
   "source": [
    "#### 2. SVR"
   ]
  },
  {
   "cell_type": "code",
   "execution_count": 17,
   "metadata": {},
   "outputs": [
    {
     "name": "stdout",
     "output_type": "stream",
     "text": [
      "Fitting 10 folds for each of 12 candidates, totalling 120 fits\n"
     ]
    }
   ],
   "source": [
    "svr_model = SVR() \n",
    "\n",
    "svr_params = {\"C\": [0.01, 0.001, 0.2, 0.1, 0.5, 0.8, 0.9, 1, 10, 100, 500, 1000]}\n",
    "\n",
    "svr_cv_model = GridSearchCV(svr_model, svr_params, cv = 10, n_jobs = -1, verbose = 2).fit(x_train, y_train)"
   ]
  },
  {
   "cell_type": "code",
   "execution_count": 18,
   "metadata": {},
   "outputs": [
    {
     "data": {
      "text/plain": [
       "{'C': 10}"
      ]
     },
     "execution_count": 18,
     "metadata": {},
     "output_type": "execute_result"
    }
   ],
   "source": [
    "svr_cv_model.best_params_"
   ]
  },
  {
   "cell_type": "code",
   "execution_count": 19,
   "metadata": {},
   "outputs": [],
   "source": [
    "svr_tuned = SVR(**svr_cv_model.best_params_).fit(x_train, y_train)"
   ]
  },
  {
   "attachments": {},
   "cell_type": "markdown",
   "metadata": {},
   "source": [
    "Tính toán các thông số đánh giá `MSE`, `RMSE`, `R square`"
   ]
  },
  {
   "cell_type": "code",
   "execution_count": 20,
   "metadata": {},
   "outputs": [
    {
     "name": "stdout",
     "output_type": "stream",
     "text": [
      "The Mean Square Error(MSE) or J(theta) is:  0.6469292756311158\n",
      "The Root Mean Square Error(RMSE) is:  0.8043191379241923\n",
      "R square obtain for scikit learn library is : 0.24024920402233496\n"
     ]
    }
   ],
   "source": [
    "# sklearn regression module\n",
    "y_pred = svr_tuned.predict(x_test)\n",
    "\n",
    "#Evaluvation: MSE\n",
    "J_mse = mean_squared_error(y_test, y_pred)\n",
    "\n",
    "#Evaluvation: RMSE\n",
    "rmse = mean_squared_error(y_test, y_pred, squared=False)\n",
    "\n",
    "# R_square\n",
    "R_square = svr_tuned.score(x_test, y_test)\n",
    "\n",
    "print('The Mean Square Error(MSE) or J(theta) is: ', J_mse)\n",
    "print('The Root Mean Square Error(RMSE) is: ', rmse)\n",
    "print('R square obtain for scikit learn library is :', R_square)"
   ]
  },
  {
   "attachments": {},
   "cell_type": "markdown",
   "metadata": {},
   "source": [
    "#### 3. CART"
   ]
  },
  {
   "cell_type": "code",
   "execution_count": 27,
   "metadata": {},
   "outputs": [
    {
     "name": "stdout",
     "output_type": "stream",
     "text": [
      "Fitting 10 folds for each of 72 candidates, totalling 720 fits\n"
     ]
    }
   ],
   "source": [
    "cart_model = DecisionTreeRegressor()\n",
    "\n",
    "cart_params = {\"max_depth\": [2, 3, 4, 5, 10, 20, 100, 1000],\n",
    "              \"min_samples_split\": [2, 5, 10, 30, 50, 60, 70, 80, 100]}\n",
    "\n",
    "cart_cv_model = GridSearchCV(cart_model, cart_params, cv = 10, n_jobs = -1, verbose = 2).fit(x_train, y_train)"
   ]
  },
  {
   "cell_type": "code",
   "execution_count": 28,
   "metadata": {},
   "outputs": [
    {
     "data": {
      "text/plain": [
       "{'max_depth': 4, 'min_samples_split': 80}"
      ]
     },
     "execution_count": 28,
     "metadata": {},
     "output_type": "execute_result"
    }
   ],
   "source": [
    "cart_cv_model.best_params_"
   ]
  },
  {
   "cell_type": "code",
   "execution_count": 29,
   "metadata": {},
   "outputs": [],
   "source": [
    "cart_tuned = DecisionTreeRegressor(**cart_cv_model.best_params_).fit(x_train, y_train)"
   ]
  },
  {
   "attachments": {},
   "cell_type": "markdown",
   "metadata": {},
   "source": [
    "Tính toán các thông số đánh giá `MSE`, `RMSE`, `R square`"
   ]
  },
  {
   "cell_type": "code",
   "execution_count": 30,
   "metadata": {},
   "outputs": [
    {
     "name": "stdout",
     "output_type": "stream",
     "text": [
      "The Mean Square Error(MSE) or J(theta) is:  0.7379048901386993\n",
      "The Root Mean Square Error(RMSE) is:  0.8590139056724864\n",
      "R square obtain for scikit learn library is : 0.13340785653614418\n"
     ]
    }
   ],
   "source": [
    "# sklearn regression module\n",
    "y_pred = cart_tuned.predict(x_test)\n",
    "\n",
    "#Evaluvation: MSE\n",
    "J_mse = mean_squared_error(y_test, y_pred)\n",
    "\n",
    "#Evaluvation: RMSE\n",
    "rmse = mean_squared_error(y_test, y_pred, squared=False)\n",
    "\n",
    "# R_square\n",
    "R_square = cart_tuned.score(x_test, y_test)\n",
    "\n",
    "print('The Mean Square Error(MSE) or J(theta) is: ', J_mse)\n",
    "print('The Root Mean Square Error(RMSE) is: ', rmse)\n",
    "print('R square obtain for scikit learn library is :', R_square)"
   ]
  },
  {
   "attachments": {},
   "cell_type": "markdown",
   "metadata": {},
   "source": [
    "## Đánh giá các mô hình"
   ]
  },
  {
   "attachments": {},
   "cell_type": "markdown",
   "metadata": {},
   "source": [
    "#### So sánh `RMSE` giữa các mô hình"
   ]
  },
  {
   "cell_type": "code",
   "execution_count": 31,
   "metadata": {},
   "outputs": [
    {
     "name": "stdout",
     "output_type": "stream",
     "text": [
      "----------------------------\n",
      "KNeighborsRegressor:\n",
      "Error: 0.8403467912929502\n",
      "----------------------------\n",
      "SVR:\n",
      "Error: 0.8043191379241923\n",
      "----------------------------\n",
      "DecisionTreeRegressor:\n",
      "Error: 0.8590139056724864\n"
     ]
    }
   ],
   "source": [
    "models = [\n",
    "    knn_tuned,\n",
    "    svr_tuned,\n",
    "    cart_tuned,\n",
    "]\n",
    "\n",
    "\n",
    "for model in models:\n",
    "    isimler = model.__class__.__name__\n",
    "    y_pred = model.predict(x_test)\n",
    "    error = mean_squared_error(y_test, y_pred, squared=False)\n",
    "    print(\"-\"*28)\n",
    "    print(isimler + \":\" )\n",
    "    print(\"Error: \" + str(error))"
   ]
  },
  {
   "attachments": {},
   "cell_type": "markdown",
   "metadata": {},
   "source": [
    "#### Vẽ biểu đồ thể hiện độ lỗi giữa các mô hình"
   ]
  },
  {
   "cell_type": "code",
   "execution_count": 32,
   "metadata": {},
   "outputs": [
    {
     "data": {
      "image/png": "[encoded data removed]",
      "text/plain": [
       "<Figure size 1440x288 with 1 Axes>"
      ]
     },
     "metadata": {
      "needs_background": "light"
     },
     "output_type": "display_data"
    }
   ],
   "source": [
    "sonuc = []\n",
    "\n",
    "sonuclar = pd.DataFrame(columns= [\"Models\",\"Error\"])\n",
    "\n",
    "for model in models:\n",
    "    isimler = model.__class__.__name__\n",
    "    y_pred = model.predict(x_test)\n",
    "    hata = np.sqrt(mean_squared_error(y_test, y_pred))    \n",
    "    sonuc = pd.DataFrame([[isimler, hata]], columns= [\"Models\",\"Error\"])\n",
    "    sonuclar = pd.concat([sonuclar, sonuc])\n",
    "    \n",
    "    \n",
    "sns.barplot(x= 'Error', y = 'Models', data=sonuclar, color=\"r\")\n",
    "plt.xlabel('Error')\n",
    "plt.title('Error Rate of Models');  "
   ]
  }
 ],
 "metadata": {
  "kernelspec": {
   "display_name": "base",
   "language": "python",
   "name": "python3"
  },
  "language_info": {
   "codemirror_mode": {
    "name": "ipython",
    "version": 3
   },
   "file_extension": ".py",
   "mimetype": "text/x-python",
   "name": "python",
   "nbconvert_exporter": "python",
   "pygments_lexer": "ipython3",
   "version": "3.9.12 (main, Apr  4 2022, 05:22:27) [MSC v.1916 64 bit (AMD64)]"
  },
  "orig_nbformat": 4,
  "vscode": {
   "interpreter": {
    "hash": "16f5b46f222e2a3e8d4adbf7141cae37b71ed37616e60735fa5d1164a1bc3ada"
   }
  }
 },
 "nbformat": 4,
 "nbformat_minor": 2
}
