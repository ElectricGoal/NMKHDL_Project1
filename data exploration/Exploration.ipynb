{
 "cells": [
  {
   "cell_type": "markdown",
   "metadata": {},
   "source": [
    "<h1><b>Đồ án thu thập dữ liệu</b></h1>\n",
    "Thông tin nhóm:\n"
   ]
  },
  {
   "cell_type": "markdown",
   "metadata": {},
   "source": [
    "<h2><b>Mô tả đồ án</b><h2>"
   ]
  },
  {
   "cell_type": "markdown",
   "metadata": {},
   "source": [
    "Bổ sung sau"
   ]
  },
  {
   "cell_type": "markdown",
   "metadata": {},
   "source": [
    "<h2><b>import các thư viện"
   ]
  },
  {
   "cell_type": "code",
   "execution_count": 1,
   "metadata": {},
   "outputs": [],
   "source": [
    "#import các thư viện cần dùng\n",
    "\n",
    "import pandas as pd\n",
    "import matplotlib.pyplot as plt\n",
    "import numpy as np\n",
    "import json\n",
    "import re\n",
    "import scrapy\n",
    "# bổ sung nếu cần \n",
    "from numpy import random"
   ]
  },
  {
   "cell_type": "markdown",
   "metadata": {},
   "source": [
    "<h2><b>Khám phá dữ liệu </b></h2>"
   ]
  },
  {
   "cell_type": "markdown",
   "metadata": {},
   "source": [
    "<b>Đầu tiên đọc file <b>games_info.csv</b> vào một Dataframe tên là `df_games_info`.</b>"
   ]
  },
  {
   "cell_type": "code",
   "execution_count": 23,
   "metadata": {},
   "outputs": [
    {
     "data": {
      "text/html": [
       "<div>\n",
       "<style scoped>\n",
       "    .dataframe tbody tr th:only-of-type {\n",
       "        vertical-align: middle;\n",
       "    }\n",
       "\n",
       "    .dataframe tbody tr th {\n",
       "        vertical-align: top;\n",
       "    }\n",
       "\n",
       "    .dataframe thead th {\n",
       "        text-align: right;\n",
       "    }\n",
       "</style>\n",
       "<table border=\"1\" class=\"dataframe\">\n",
       "  <thead>\n",
       "    <tr style=\"text-align: right;\">\n",
       "      <th></th>\n",
       "      <th>Title</th>\n",
       "      <th>Release date</th>\n",
       "      <th>Platform</th>\n",
       "      <th>Other platforms</th>\n",
       "      <th>Publisher</th>\n",
       "      <th>Developer</th>\n",
       "      <th>Genres</th>\n",
       "      <th>Rating</th>\n",
       "      <th>Number of players</th>\n",
       "      <th>Metascore</th>\n",
       "      <th>Number of critic reviews</th>\n",
       "      <th>User Score</th>\n",
       "      <th>Number of user reviews</th>\n",
       "    </tr>\n",
       "  </thead>\n",
       "  <tbody>\n",
       "    <tr>\n",
       "      <th>0</th>\n",
       "      <td>The Legend of Zelda: Ocarina of Time</td>\n",
       "      <td>Nov 23, 1998</td>\n",
       "      <td>Nintendo 64</td>\n",
       "      <td>NaN</td>\n",
       "      <td>Nintendo</td>\n",
       "      <td>Nintendo</td>\n",
       "      <td>Action Adventure,Fantasy</td>\n",
       "      <td>E</td>\n",
       "      <td>1 Player</td>\n",
       "      <td>99.0</td>\n",
       "      <td>22</td>\n",
       "      <td>9.1</td>\n",
       "      <td>7359</td>\n",
       "    </tr>\n",
       "    <tr>\n",
       "      <th>1</th>\n",
       "      <td>Tony Hawk's Pro Skater 2</td>\n",
       "      <td>Sep 20, 2000</td>\n",
       "      <td>PlayStation</td>\n",
       "      <td>iPhone/iPad,PC</td>\n",
       "      <td>Activision</td>\n",
       "      <td>Neversoft Entertainment</td>\n",
       "      <td>Sports,Alternative,Skateboarding</td>\n",
       "      <td>T</td>\n",
       "      <td>1-2</td>\n",
       "      <td>98.0</td>\n",
       "      <td>19</td>\n",
       "      <td>7.4</td>\n",
       "      <td>845</td>\n",
       "    </tr>\n",
       "    <tr>\n",
       "      <th>2</th>\n",
       "      <td>Grand Theft Auto IV</td>\n",
       "      <td>Apr 29, 2008</td>\n",
       "      <td>PlayStation 3</td>\n",
       "      <td>PC,Xbox 360</td>\n",
       "      <td>Rockstar Games</td>\n",
       "      <td>Rockstar North</td>\n",
       "      <td>Action Adventure,Modern,Modern,Open-World</td>\n",
       "      <td>M</td>\n",
       "      <td>1 Player</td>\n",
       "      <td>98.0</td>\n",
       "      <td>64</td>\n",
       "      <td>7.8</td>\n",
       "      <td>4735</td>\n",
       "    </tr>\n",
       "    <tr>\n",
       "      <th>3</th>\n",
       "      <td>SoulCalibur</td>\n",
       "      <td>Sep  8, 1999</td>\n",
       "      <td>Dreamcast</td>\n",
       "      <td>NaN</td>\n",
       "      <td>Namco</td>\n",
       "      <td>Namco</td>\n",
       "      <td>Action,Fighting,3D</td>\n",
       "      <td>T</td>\n",
       "      <td>1-2</td>\n",
       "      <td>98.0</td>\n",
       "      <td>24</td>\n",
       "      <td>8.4</td>\n",
       "      <td>394</td>\n",
       "    </tr>\n",
       "    <tr>\n",
       "      <th>4</th>\n",
       "      <td>Grand Theft Auto IV</td>\n",
       "      <td>Apr 29, 2008</td>\n",
       "      <td>Xbox 360</td>\n",
       "      <td>PC,PlayStation 3</td>\n",
       "      <td>Rockstar Games</td>\n",
       "      <td>Rockstar North</td>\n",
       "      <td>Action Adventure,Modern,Modern,Open-World</td>\n",
       "      <td>M</td>\n",
       "      <td>1 Player</td>\n",
       "      <td>98.0</td>\n",
       "      <td>86</td>\n",
       "      <td>8.0</td>\n",
       "      <td>3671</td>\n",
       "    </tr>\n",
       "  </tbody>\n",
       "</table>\n",
       "</div>"
      ],
      "text/plain": [
       "                                  Title  Release date       Platform  \\\n",
       "0  The Legend of Zelda: Ocarina of Time  Nov 23, 1998    Nintendo 64   \n",
       "1              Tony Hawk's Pro Skater 2  Sep 20, 2000    PlayStation   \n",
       "2                   Grand Theft Auto IV  Apr 29, 2008  PlayStation 3   \n",
       "3                           SoulCalibur  Sep  8, 1999      Dreamcast   \n",
       "4                   Grand Theft Auto IV  Apr 29, 2008       Xbox 360   \n",
       "\n",
       "    Other platforms       Publisher                Developer  \\\n",
       "0               NaN        Nintendo                 Nintendo   \n",
       "1    iPhone/iPad,PC      Activision  Neversoft Entertainment   \n",
       "2       PC,Xbox 360  Rockstar Games           Rockstar North   \n",
       "3               NaN           Namco                    Namco   \n",
       "4  PC,PlayStation 3  Rockstar Games           Rockstar North   \n",
       "\n",
       "                                      Genres Rating Number of players  \\\n",
       "0                   Action Adventure,Fantasy      E          1 Player   \n",
       "1           Sports,Alternative,Skateboarding      T               1-2   \n",
       "2  Action Adventure,Modern,Modern,Open-World      M          1 Player   \n",
       "3                         Action,Fighting,3D      T               1-2   \n",
       "4  Action Adventure,Modern,Modern,Open-World      M          1 Player   \n",
       "\n",
       "   Metascore  Number of critic reviews  User Score  Number of user reviews  \n",
       "0       99.0                        22         9.1                    7359  \n",
       "1       98.0                        19         7.4                     845  \n",
       "2       98.0                        64         7.8                    4735  \n",
       "3       98.0                        24         8.4                     394  \n",
       "4       98.0                        86         8.0                    3671  "
      ]
     },
     "execution_count": 23,
     "metadata": {},
     "output_type": "execute_result"
    }
   ],
   "source": [
    "#   YOUR CODE HEAR\n",
    "df_games_info = pd.read_csv('../data/games_info.csv')\n",
    "df_games_info.head(5)"
   ]
  },
  {
   "cell_type": "markdown",
   "metadata": {},
   "source": [
    "<b>Dữ liệu gồm bao nhiêu dòng và cột, lưu số dòng và số cột vào 2 biến `num_rows` và `num_cols`.</b>"
   ]
  },
  {
   "cell_type": "code",
   "execution_count": 3,
   "metadata": {},
   "outputs": [
    {
     "name": "stdout",
     "output_type": "stream",
     "text": [
      "13\n",
      "1498\n"
     ]
    }
   ],
   "source": [
    "#   YOUR CODE HEAR\n",
    "num_rows = df_games_info.shape[0]\n",
    "num_cols = df_games_info.shape[1]\n",
    "print(num_cols)\n",
    "print(num_rows)"
   ]
  },
  {
   "cell_type": "markdown",
   "metadata": {},
   "source": [
    "<b>Các dòng của dữ liệu có bị lặp không, lưu vào biến `have_duplicated_rows` là `False` nếu không lặp và ngược lại.</b>"
   ]
  },
  {
   "cell_type": "code",
   "execution_count": 4,
   "metadata": {},
   "outputs": [
    {
     "name": "stdout",
     "output_type": "stream",
     "text": [
      "False\n"
     ]
    }
   ],
   "source": [
    "#   YOUR CODE HEAR\n",
    "have_duplicated_rows = False\n",
    "if df_games_info[df_games_info.duplicated()].empty == True:\n",
    "    have_duplicated_rows == True\n",
    "print(have_duplicated_rows)"
   ]
  },
  {
   "cell_type": "markdown",
   "metadata": {},
   "source": [
    "<b>Mỗi cột hiện đang có kiểu dữ liệu gì? Có cột nào có kiểu dữ liệu chưa phù hợp để có thể xử lý tiếp không?</b>\n",
    "\n",
    "Lưu giá trị của các kiểu dữ liệu vào biến `col_dtypes`."
   ]
  },
  {
   "cell_type": "code",
   "execution_count": 5,
   "metadata": {},
   "outputs": [
    {
     "name": "stdout",
     "output_type": "stream",
     "text": [
      "Title                        object\n",
      "Release date                 object\n",
      "Platform                     object\n",
      "Other platforms              object\n",
      "Publisher                    object\n",
      "Developer                    object\n",
      "Genres                       object\n",
      "Rating                       object\n",
      "Number of players            object\n",
      "Metascore                   float64\n",
      "Number of critic reviews      int64\n",
      "User Score                  float64\n",
      "Number of user reviews        int64\n",
      "dtype: object\n"
     ]
    }
   ],
   "source": [
    "#   YOUR CODE HEAR\n",
    "df_games_info.dtypes\n",
    "col_dtypes = df_games_info.dtypes\n",
    "print(col_dtypes)"
   ]
  },
  {
   "cell_type": "markdown",
   "metadata": {},
   "source": [
    "<b>Ý nghĩa của các dòng và các cột</b> "
   ]
  },
  {
   "cell_type": "markdown",
   "metadata": {},
   "source": []
  },
  {
   "cell_type": "markdown",
   "metadata": {},
   "source": [
    "<b>Tìm kiếm kiểu dữ liệu thật sự của các cột có dtype là object.</b>"
   ]
  },
  {
   "cell_type": "code",
   "execution_count": 6,
   "metadata": {},
   "outputs": [
    {
     "name": "stdout",
     "output_type": "stream",
     "text": [
      "{<class 'str'>, <class 'float'>}\n"
     ]
    }
   ],
   "source": [
    "# YOUR CODE HERE\n",
    "def open_object_dtype(s):\n",
    "    dtypes = set()\n",
    "    s.apply(lambda x : dtypes.add(type(x)))\n",
    "    return dtypes\n",
    "\n",
    "print(open_object_dtype(df_games_info['Number of players']))"
   ]
  },
  {
   "cell_type": "markdown",
   "metadata": {},
   "source": [
    "<b>Các vấn đề cần tiền xử lí</b>\n",
    "- Cột Release date đang có kiểu dữ liệu là `str`, việc cần làm là đổi nó sang kiểu `datetime`.\n",
    "- Cột Rating để biểu diễn lứa tuổi phù hợp đang có 2 kiểu dữ liệu là `str` và `float`, việc cần làm là đổi cột này sang dạng `int`.\n",
    "- Cột Number of players đang có 2 kiểu dữ liệu là `str` và `float`, việc cần làm là đổi cột này sang dạng `int` vì số lượng người chơi phải là số nguyên dương (Ở biến này có những chuỗi phức tạp nên ta sẽ tìm hiểu sau hơn ở phần tiền xử lí bên dưới)."
   ]
  },
  {
   "cell_type": "markdown",
   "metadata": {},
   "source": [
    "<h2><b>Tiền xử lí dữ liệu</b><h2>"
   ]
  },
  {
   "cell_type": "markdown",
   "metadata": {},
   "source": [
    "<b>Chuyển cột Release date sang kiểu dữ liệu datetime."
   ]
  },
  {
   "cell_type": "code",
   "execution_count": 7,
   "metadata": {},
   "outputs": [
    {
     "name": "stdout",
     "output_type": "stream",
     "text": [
      "0       1998\n",
      "1       2000\n",
      "2       2008\n",
      "3       1999\n",
      "4       2008\n",
      "        ... \n",
      "1493    2010\n",
      "1494    2004\n",
      "1495    2011\n",
      "1496    2003\n",
      "1497    2003\n",
      "Name: Release date, Length: 1498, dtype: int64\n"
     ]
    }
   ],
   "source": [
    "# YOUR CODE HEAR\n",
    "df_games_info['Release date'] = pd.to_datetime(df_games_info['Release date'],format=\"%b %d, %Y\")\n",
    "print(df_games_info['Release date'].dt.year)"
   ]
  },
  {
   "cell_type": "markdown",
   "metadata": {},
   "source": [
    "<b>Chuyển cột Rating sang kiểu dữ liệu int. Ta quy định như sau:</b>\n",
    "\n",
    "Trong cột này có các giá trị ['E' 'T' 'M' 'E10+' nan 'K-A' 'AO']\n",
    "\n",
    "- E là 3 tuổi trở lên nên quy định trong tệp này là 3\n",
    "\n",
    "- T là 13 tuổi trở lên nên quy định trong tệp này là 13\n",
    "\n",
    "- M là từ 17 tuổi trở lên nên quy định trong tệp này là 17\n",
    "\n",
    "- E10+ là từ từ 10 tuổi trở lên nên quy định trong tệp này là 10\n",
    "\n",
    "- K-A là từ 6 tuổi nên ta quy trong tệp này là 6\n",
    "\n",
    "- AO là từ 18 nên quy định trong tệp này là 18\n",
    "\n",
    "- Với nan ta quy định là -1\n",
    "\n"
   ]
  },
  {
   "cell_type": "code",
   "execution_count": 8,
   "metadata": {},
   "outputs": [
    {
     "name": "stdout",
     "output_type": "stream",
     "text": [
      "0        3\n",
      "1       13\n",
      "2       17\n",
      "3       13\n",
      "4       17\n",
      "        ..\n",
      "1493     3\n",
      "1494    13\n",
      "1495    17\n",
      "1496     3\n",
      "1497     3\n",
      "Name: Rating, Length: 1498, dtype: int32\n"
     ]
    }
   ],
   "source": [
    "# YOUR CODE HEAR\n",
    "def replace_rating(df,val_old,val_new):\n",
    "    return df.replace([val_old], val_new)\n",
    "\n",
    "df_games_info['Rating'] = replace_rating(df_games_info['Rating'],'E',3)\n",
    "df_games_info['Rating'] = replace_rating(df_games_info['Rating'],'T',13)\n",
    "df_games_info['Rating'] = replace_rating(df_games_info['Rating'],'M',17)\n",
    "df_games_info['Rating'] = replace_rating(df_games_info['Rating'],'E10+',10)\n",
    "df_games_info['Rating'] = replace_rating(df_games_info['Rating'],'K-A',6)\n",
    "df_games_info['Rating'] = replace_rating(df_games_info['Rating'],'AO',18)\n",
    "df_games_info['Rating'] = replace_rating(df_games_info['Rating'],np.nan,-1)\n",
    "\n",
    "df_games_info = df_games_info.astype({'Rating':'int'})\n",
    "print(df_games_info['Rating'])"
   ]
  },
  {
   "cell_type": "markdown",
   "metadata": {},
   "source": [
    "<b>Ở đây ta tập trung tiền xử lí cho cột Number of players.</b>\n",
    "- Đầu tiên hãy kiểm tra xem cột này có bao nhiêu giá trị khác nhau.\n",
    "- Sau đó ta sẽ quy định lại giá trị int tương ứng cho giá trị đó."
   ]
  },
  {
   "cell_type": "markdown",
   "metadata": {},
   "source": [
    "Chúng ta sẽ kiểm tra số lượng giá trị khác nhau và lưu vào một list là `unique_values`."
   ]
  },
  {
   "cell_type": "code",
   "execution_count": 9,
   "metadata": {},
   "outputs": [
    {
     "name": "stdout",
     "output_type": "stream",
     "text": [
      "['1 Player' '1-2' 'No Online Multiplayer' 'Up to 32' 'Up to 30' 'Up to 16'\n",
      " nan '1-4' 'Up to 4' 'Online Multiplayer' 'Up to 6' '1-16' 'Up to 8' '2'\n",
      " 'Up to 18' '1-8' '8  Online' '2  Online' '4  Online' '1-32' 'Up to 10'\n",
      " 'Up to 40' '16  Online' 'Massively Multiplayer' 'Up to 12' '24  Online'\n",
      " '6  Online' '1-12' 'Up to 20' 'Up to 5' '64+' 'Up to 22' 'Up to 60' '1-6'\n",
      " 'Up to 24' 'Up to 3' '1-10' '64  Online' 'Up to 64' '12  Online'\n",
      " '10  Online' '32  Online']\n"
     ]
    }
   ],
   "source": [
    "# YOUR CODE HEAR\n",
    "unique_values = df_games_info['Number of players'].unique()\n",
    "print(unique_values)"
   ]
  },
  {
   "cell_type": "markdown",
   "metadata": {},
   "source": [
    "- Với các giá trị có dạng `1-2, 1-16,...` ta chuyển nó thành giá trị của số lớn nhất bên phải.\n",
    "- Với các giá trị có dạng `Up to 32` ta chuyển nó thành 32.\n",
    "- Với các giá trị có dạng `No Online Multiplayer` ta chuyển nó thành 2.\n",
    "- Với các giá trị có dạng `Massively Multiplayer` ta chuyển nó thành giá trị đoạn [1000,inf]\n",
    "- Với các giá trị có dạng `Online Multiplayer` ta chuyển nó thành giá trị đoạn [2,100]\n",
    "- Với các giá trị có dạng `Online` ta chuyển nó thành giá trị đoạn [2,50]\n",
    "- Với các giá trị có dạng `64+` ta chuyển nó thành một giá trị đoạn [64,200]\n",
    "- Với các giá trị có dạng `1 Player` ta chuyển nó thành 1\n",
    "- Với giá trị `nan` ta cho bằng np.nan\n"
   ]
  },
  {
   "cell_type": "code",
   "execution_count": 28,
   "metadata": {},
   "outputs": [
    {
     "name": "stdout",
     "output_type": "stream",
     "text": [
      "0       1\n",
      "1       2\n",
      "2       1\n",
      "3       2\n",
      "4       1\n",
      "       ..\n",
      "1493    0\n",
      "1494    1\n",
      "1495    2\n",
      "1496    4\n",
      "1497    2\n",
      "Name: Number of players, Length: 1498, dtype: object\n"
     ]
    }
   ],
   "source": [
    "\n",
    "def replace_num_of_player(value):\n",
    "    if str(value).find('-') != -1:\n",
    "        return int(value[value.find('-') + 1])\n",
    "    elif str(value).find('Up to ') != -1:\n",
    "        return int(value[6:8])\n",
    "    elif str(value).find('  Online') != -1:\n",
    "        return int(value[0: len(value) - 7])\n",
    "    elif value =='No Online Multiplayer':\n",
    "        return 1\n",
    "    elif value == 'Massively Multiplayer':\n",
    "        return [1000,np.inf]\n",
    "    elif value == 'Online Multiplayer':\n",
    "        return [2,100]\n",
    "    elif value == 'Online':\n",
    "        return [2,50]\n",
    "    elif value == '64+':\n",
    "        return [64,200]\n",
    "    elif value == '1 Player':\n",
    "        return 1\n",
    "    else:\n",
    "        return value\n",
    "    \n",
    "\n",
    "for i in range(len(df_games_info['Number of players'])):\n",
    "    df_games_info['Number of players'].at[i] = replace_num_of_player(df_games_info['Number of players'].at[i])\n",
    "df_games_info['Number of players'] = df_games_info['Number of players'].replace([np.nan],'0')\n",
    "print(df_games_info['Number of players'])"
   ]
  },
  {
   "cell_type": "markdown",
   "metadata": {},
   "source": [
    "Sau khi đã xong chúng ta tiếp tục các bước khám phá dữ liệu."
   ]
  },
  {
   "cell_type": "markdown",
   "metadata": {},
   "source": [
    "<h2><b>Khám phá dữ liệu (Tiếp tục).</b></h2>"
   ]
  },
  {
   "cell_type": "markdown",
   "metadata": {},
   "source": [
    "<b>Với mỗi cột có kiểu dữ liệu dạng numeric, các giá trị được phân bố như thế nào?</b>\n",
    "\n",
    "Các cột dạng numeric là: Metascore, Number of critic reviews, User Score, Number of user reviews.\n",
    "\n",
    "Với mỗi cột numeric bạn sẽ tính tỉ lệ % giá trị thiếu (từ 0 đến 100), min, max. Bạn lưu kết quả vào dataframe `nume_col_profiles_df`. Dataframe này có 3 dòng là \"missing_ratio\", \"min\", \"max\"; và có 5 cột là \"Metascore\", \"Number of critic reviews\", \"User Score\", \"Number of user reviews\"."
   ]
  },
  {
   "cell_type": "code",
   "execution_count": 11,
   "metadata": {},
   "outputs": [
    {
     "name": "stdout",
     "output_type": "stream",
     "text": [
      "               Metascore  Number of critic reviews  User Score  \\\n",
      "missing_ratio        0.0                       0.0         0.0   \n",
      "min                 86.0                       7.0         2.1   \n",
      "max                 99.0                     132.0         9.6   \n",
      "\n",
      "               Number of user reviews  \n",
      "missing_ratio                     0.0  \n",
      "min                               4.0  \n",
      "max                          159969.0  \n"
     ]
    }
   ],
   "source": [
    "# YOUR CODE HEAR\n",
    "# YOUR CODE HERE\n",
    "nume_col_profiles_df = pd.DataFrame(\n",
    "    index=pd.Index(['missing_ratio', 'min','max']),\n",
    ")\n",
    "def col_profile(df):\n",
    "    missing_ratio = (df.isnull().sum() / df.shape[0]) * 100\n",
    "    min = df.min()\n",
    "    max = df.max()\n",
    "    result = [missing_ratio,min,max]\n",
    "    return result\n",
    "\n",
    "    \n",
    "nume_col_profiles_df['Metascore'] = col_profile(df_games_info['Metascore'])\n",
    "nume_col_profiles_df['Number of critic reviews'] = col_profile(df_games_info['Number of critic reviews'])\n",
    "nume_col_profiles_df['User Score'] = col_profile(df_games_info['User Score'])\n",
    "nume_col_profiles_df['Number of user reviews'] = col_profile(df_games_info['Number of user reviews'])\n",
    "\n",
    "\n",
    "print(nume_col_profiles_df)"
   ]
  },
  {
   "cell_type": "markdown",
   "metadata": {},
   "source": [
    "<b>Với mỗi cột có kiểu dữ liệu dạng categorical, các giá trị được phân bố như thế nào?</b>\n",
    "\n",
    "Với mỗi cột dạng categorical, bạn tính tỉ lệ % giá trị thiếu (từ 0 đến 100), số lượng giá trị khác nhau (không xét giá trị thiếu), list/array các giá trị khác nhau (không xét giá trị thiếu). Bạn lưu kết quả vào dataframe `cate_col_profiles_df`. Dataframe này có 3 dòng là \"missing_ratio\", \"num_diff_vals\", \"diff_vals\"; và có 7 cột là \"Title\", \"Release date\", \"Platform\", \"Other platforms\", \"Publisher\", \"Developer\", \"Genres\""
   ]
  },
  {
   "cell_type": "code",
   "execution_count": 12,
   "metadata": {},
   "outputs": [
    {
     "name": "stdout",
     "output_type": "stream",
     "text": [
      "                                                           Title  \\\n",
      "missing_ratio                                                0.0   \n",
      "num_diff_vals                                               1042   \n",
      "diff_vals      {Medieval: Total War, Sid Meier's Civilization...   \n",
      "\n",
      "                                                    Release date  \\\n",
      "missing_ratio                                                0.0   \n",
      "num_diff_vals                                               1019   \n",
      "diff_vals      {2006-11-07 00:00:00, 1997-02-28 00:00:00, 200...   \n",
      "\n",
      "                                                        Platform  \\\n",
      "missing_ratio                                                0.0   \n",
      "num_diff_vals                                                 21   \n",
      "diff_vals      {PSP, PlayStation 3, Nintendo 64, PlayStation,...   \n",
      "\n",
      "                                                 Other platforms  \\\n",
      "missing_ratio                                          32.042724   \n",
      "num_diff_vals                                                268   \n",
      "diff_vals      {PlayStation 4,PlayStation Vita,Switch,Wii U,X...   \n",
      "\n",
      "                                                       Publisher  \\\n",
      "missing_ratio                                                0.0   \n",
      "num_diff_vals                                                216   \n",
      "diff_vals      {Team Cherry, FDG Entertainment, Humongous Ent...   \n",
      "\n",
      "                                                       Developer  \\\n",
      "missing_ratio                                           0.066756   \n",
      "num_diff_vals                                                451   \n",
      "diff_vals      {Sonic Team, Jupiter Corporation, Digital Illu...   \n",
      "\n",
      "                                                          Genres  \n",
      "missing_ratio                                                0.0  \n",
      "num_diff_vals                                                383  \n",
      "diff_vals      {Action,Action Adventure,General,General,Linea...  \n"
     ]
    }
   ],
   "source": [
    "# YOUR CODE HERE\n",
    "cate_col_profiles_df = pd.DataFrame(\n",
    "    index = pd.Index(['missing_ratio','num_diff_vals','diff_vals'])\n",
    ")\n",
    "def cate_col_profile(df):\n",
    "    missing_ratio = (df.isnull().sum() / df.shape[0]) * 100\n",
    "    num_diff_vals = df.nunique()\n",
    "    temp = df\n",
    "    temp = temp.dropna()\n",
    "    diff_vals = set(temp)\n",
    "    result = [missing_ratio,num_diff_vals,diff_vals]\n",
    "    return result\n",
    "cate_col_profiles_df['Title'] = cate_col_profile(df_games_info['Title'])\n",
    "cate_col_profiles_df['Release date'] = cate_col_profile(df_games_info['Release date'])\n",
    "cate_col_profiles_df['Platform'] = cate_col_profile(df_games_info['Platform'])\n",
    "cate_col_profiles_df['Other platforms'] = cate_col_profile(df_games_info['Other platforms'])\n",
    "cate_col_profiles_df['Publisher'] = cate_col_profile(df_games_info['Publisher'])\n",
    "cate_col_profiles_df['Developer'] = cate_col_profile(df_games_info['Developer'])\n",
    "cate_col_profiles_df['Genres'] = cate_col_profile(df_games_info['Genres'])\n",
    "\n",
    "print(cate_col_profiles_df)"
   ]
  }
 ],
 "metadata": {
  "kernelspec": {
   "display_name": "Python 3.9.0 64-bit",
   "language": "python",
   "name": "python3"
  },
  "language_info": {
   "codemirror_mode": {
    "name": "ipython",
    "version": 3
   },
   "file_extension": ".py",
   "mimetype": "text/x-python",
   "name": "python",
   "nbconvert_exporter": "python",
   "pygments_lexer": "ipython3",
   "version": "3.9.0"
  },
  "orig_nbformat": 4,
  "vscode": {
   "interpreter": {
    "hash": "6f0405dd55fe551edf6ef7ed620dd0db247e1c02a63f3f08a6428c3e43caeaee"
   }
  }
 },
 "nbformat": 4,
 "nbformat_minor": 2
}
